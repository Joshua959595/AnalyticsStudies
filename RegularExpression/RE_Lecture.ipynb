{
  "nbformat": 4,
  "nbformat_minor": 0,
  "metadata": {
    "colab": {
      "provenance": []
    },
    "kernelspec": {
      "name": "python3",
      "display_name": "Python 3"
    },
    "language_info": {
      "name": "python"
    }
  },
  "cells": [
    {
      "cell_type": "markdown",
      "source": [
        "1. 정규표현식의 필요성"
      ],
      "metadata": {
        "id": "6Q27tGREW9xJ"
      }
    },
    {
      "cell_type": "code",
      "execution_count": null,
      "metadata": {
        "id": "i_r0HBsJWe-R"
      },
      "outputs": [],
      "source": [
        "# 상황: 주민등록번호의 뒷자리를 * 문자로 변경하시오"
      ]
    },
    {
      "cell_type": "code",
      "source": [
        "# 기존\n",
        "data = \"\"\"\n",
        "park 800905-1049118\n",
        "kim 700905-1059119\n",
        "\"\"\"\n",
        "\n",
        "result = []\n",
        "for line in data.split('\\n'):\n",
        "  word_result = []\n",
        "  for word in line.split(' '):\n",
        "    if len(word) == 14 and word[:6].isdigit() and word[7:].isdigit():\n",
        "      word = word[:6] + '-' + '*******'\n",
        "    word_result.append(word)\n",
        "  result.append(' '.join(word_result))\n",
        "print('\\n'.join(result))"
      ],
      "metadata": {
        "colab": {
          "base_uri": "https://localhost:8080/"
        },
        "id": "Qing0-BWXA6y",
        "outputId": "a9a72abe-4e16-4be8-ac70-14fdb2461c86"
      },
      "execution_count": 5,
      "outputs": [
        {
          "output_type": "stream",
          "name": "stdout",
          "text": [
            "\n",
            "park 800905-*******\n",
            "kim 700905-*******\n",
            "\n"
          ]
        }
      ]
    },
    {
      "cell_type": "code",
      "source": [
        "# 정규표현식\n",
        "import re\n",
        "\n",
        "data = \"\"\"\n",
        "park 800905-1049118\n",
        "kim 700905-1059119\n",
        "\"\"\"\n",
        "\n",
        "pat = re.compile(\"(\\d{6})[-]\\d{7}\")\n",
        "print(pat.sub(\"\\g<1>-*******\", data))"
      ],
      "metadata": {
        "colab": {
          "base_uri": "https://localhost:8080/"
        },
        "id": "OI8cvUiPYbXS",
        "outputId": "14c24d8b-e324-4c4e-e48f-842c0cf2b6ad"
      },
      "execution_count": 6,
      "outputs": [
        {
          "output_type": "stream",
          "name": "stdout",
          "text": [
            "\n",
            "park 800905-*******\n",
            "kim 700905-*******\n",
            "\n"
          ]
        }
      ]
    },
    {
      "cell_type": "markdown",
      "source": [
        "2. 정규표현식 개괄"
      ],
      "metadata": {
        "id": "J5KTAoXWZQeC"
      }
    },
    {
      "cell_type": "markdown",
      "source": [
        "1) 문자클래스 []"
      ],
      "metadata": {
        "id": "yyXzUZDbZXM4"
      }
    },
    {
      "cell_type": "code",
      "source": [
        "# [abc]\n",
        "\n",
        "# [] 사이의 문자들과 매치\n",
        "# \"a\" 는 정규식과 일치하는 문자일 \"a\"가 있으므로 매치\n",
        "# \"before\"는 정규식과 일치하는 문자일 \"b\"가 있으므로 매치\n",
        "# \"dude\"는 정규식과 일치하는 문자인 a,b,c 중 어느 하나도 포함하고 있지 않으므로 매치X\n",
        "# 하이픈을 사용하여 From-To로 표현 가능 ex) [a-c] = [abc], [0-5] = [012345]"
      ],
      "metadata": {
        "id": "-a7vqDggZSqa"
      },
      "execution_count": 1,
      "outputs": []
    },
    {
      "cell_type": "markdown",
      "source": [
        "2) Dot(.)"
      ],
      "metadata": {
        "id": "_5n7XfdZsT_1"
      }
    },
    {
      "cell_type": "code",
      "source": [
        "# a.b\n",
        "\n",
        "# 줄바꿈(\\n)을 제외한 모든 문자와 매치\n",
        "# \"aab\"는 가운데 문자 \"a\"가 모든 문자를 의미하는 '.'과 일치하므로 정규식과 매치\n",
        "# \"a0b\"는 가운데 문자 \"0\"가 모든 문자를 의미하는 '.'과 일치하므로 정규식과 매치\n",
        "# \"abc\"는 \"a\"문자와 \"b\"문자 사이에 어떤 문자라도 하나는 있어야 하는 이 정규식과 일치하지 않으므로 매치X"
      ],
      "metadata": {
        "id": "iHfZyncQYbUQ"
      },
      "execution_count": null,
      "outputs": []
    },
    {
      "cell_type": "markdown",
      "source": [
        "3) 반복(*)"
      ],
      "metadata": {
        "id": "9cdmkFuEt-rX"
      }
    },
    {
      "cell_type": "code",
      "source": [
        "# ca*t -> 0번 이상 반복되면 매치O\n",
        "\n",
        "# \"ct\"는 \"a\"가 0번 반복되어 매치\n",
        "# \"cat\"는 \"a\"가 1번 반복되어 매치\n",
        "# \"caaat\"는 \"a\"가 3번 반복되어 매치"
      ],
      "metadata": {
        "id": "cV2E75x8XA4H"
      },
      "execution_count": null,
      "outputs": []
    },
    {
      "cell_type": "markdown",
      "source": [
        "4) 반복(+)"
      ],
      "metadata": {
        "id": "-nFysGT0uSVr"
      }
    },
    {
      "cell_type": "code",
      "source": [
        "# ca+t -> 1번 이상 반복되면 매치O\n",
        "\n",
        "# \"ct\"는 \"a\"가 0번 반복되어 매치X\n",
        "# \"cat\"는 \"a\"가 1번 반복되어 매치\n",
        "# \"caaat\"는 \"a\"가 3번 반복되어 매치"
      ],
      "metadata": {
        "id": "f15neBU9uTa1"
      },
      "execution_count": null,
      "outputs": []
    },
    {
      "cell_type": "markdown",
      "source": [
        "5) 반복({m,n},?)"
      ],
      "metadata": {
        "id": "fAfac1DAuuc5"
      }
    },
    {
      "cell_type": "code",
      "source": [
        "# ca{2}t --> a가 2회 반복\n",
        "\n",
        "# \"cat\"는 \"a\"가 1번만 반복되어 매치X\n",
        "# \"caat\"는 \"a\"가 2번 반복되어 매치\n",
        "\n",
        "\n",
        "# ca{2,5}t  --> a가 2이상 5이하로 반복\n",
        "\n",
        "# \"cat\"는 \"a\"가 1번만 반복되어 매치X\n",
        "# \"caat\"는 \"a\"가 2번 반복되어 매치\n",
        "# \"caaaaat\"는 \"a\"가 5번 반복되어 매치\n",
        "\n",
        "\n",
        "# ab?c  --> b가 0 또는 1회\n",
        "\n",
        "# \"abc\"는 \"b\"가 1번 사용되어 매치\n",
        "# \"ac\"는 \"b\"가 0번 사용되어 매치\n",
        "# ? == {0,1}와 같은 표현"
      ],
      "metadata": {
        "id": "woVfE-JOuTYR"
      },
      "execution_count": null,
      "outputs": []
    },
    {
      "cell_type": "markdown",
      "source": [
        "3. 파이썬에서의 정규표현식 (re)"
      ],
      "metadata": {
        "id": "78eysRPRvs9Z"
      }
    },
    {
      "cell_type": "code",
      "source": [
        "import re\n",
        "p = re.compile('ab*') # 패턴객체\n",
        "# 패턴객체의 이용법 Match/Search/Findall/Finditer"
      ],
      "metadata": {
        "id": "V0PsaYFQuTVm"
      },
      "execution_count": 2,
      "outputs": []
    },
    {
      "cell_type": "markdown",
      "source": [
        "1) match"
      ],
      "metadata": {
        "id": "mNmKNjX5v_-l"
      }
    },
    {
      "cell_type": "code",
      "source": [
        "import re\n",
        "p = re.compile('[a-z]+') # <-- a부터 z까지 1번 이상 반복되는 표현을 찾는 식\n",
        "\n",
        "m = p.match('python')\n",
        "print(m)\n",
        "\n",
        "n = p.match('3 python')\n",
        "print(n)\n",
        "\n",
        "# match는 컴파일(규칙)에 전문(全文) 부합하면 Match 객체 반환, 부합하지 않으면 None 반환"
      ],
      "metadata": {
        "id": "QjfadmKcuTTA"
      },
      "execution_count": null,
      "outputs": []
    },
    {
      "cell_type": "markdown",
      "source": [
        "2) search"
      ],
      "metadata": {
        "id": "bm-DoqK7wiUN"
      }
    },
    {
      "cell_type": "code",
      "source": [
        "import re\n",
        "p = re.compile('[a-z]+')\n",
        "\n",
        "m = p.search('python')\n",
        "print(m)\n",
        "\n",
        "m = p.search('3 python')\n",
        "print(m)\n",
        "\n",
        "# search는 컴파일에 전문 부합하면 Match 객체 반환, 일부 부합하면 부합된 부분을 Match로 반환"
      ],
      "metadata": {
        "colab": {
          "base_uri": "https://localhost:8080/"
        },
        "id": "Jr0IMPwtwCd-",
        "outputId": "00b0b81e-c5a7-417d-d2ad-51f0f32ec1d0"
      },
      "execution_count": 7,
      "outputs": [
        {
          "output_type": "stream",
          "name": "stdout",
          "text": [
            "<re.Match object; span=(0, 6), match='python'>\n",
            "<re.Match object; span=(2, 8), match='python'>\n"
          ]
        }
      ]
    },
    {
      "cell_type": "markdown",
      "source": [
        "3) findall & finditer"
      ],
      "metadata": {
        "id": "WKSpnCjuxYA9"
      }
    },
    {
      "cell_type": "code",
      "source": [
        "import re\n",
        "p = re.compile('[a-z]+')\n",
        "\n",
        "m = p.findall('life is too short')\n",
        "print(m)\n",
        "\n",
        "n = p.finditer('life is too short')\n",
        "print(n)\n",
        "for r in n:\n",
        "  print(r)\n",
        "\n",
        "# findall은 컴파일에 부합하는 string을 list에 담아서 반환\n",
        "# finditer은 컴파일에 부합하는 iterator object를 반환, 즉 for 문에 담아서 각각 출력하면 객체 하나씩 출력(Match 객체)"
      ],
      "metadata": {
        "id": "531tIvaYwCbO"
      },
      "execution_count": null,
      "outputs": []
    },
    {
      "cell_type": "markdown",
      "source": [
        "4. match 객체 메소드 (group(), start(), end(), span())"
      ],
      "metadata": {
        "id": "a42xY2SnyIvL"
      }
    },
    {
      "cell_type": "markdown",
      "source": [
        "1) group(): 매치된 문자열을 리턴"
      ],
      "metadata": {
        "id": "VJ8R1pQ-yQDL"
      }
    },
    {
      "cell_type": "code",
      "source": [
        " import re\n",
        " p = re.compile('[a-z]+')\n",
        "\n",
        " m = p.match('python')\n",
        " \n",
        " print(m.group())"
      ],
      "metadata": {
        "colab": {
          "base_uri": "https://localhost:8080/"
        },
        "id": "Hnb4vn7pyHtx",
        "outputId": "e8a93a8d-78df-48b6-8c0a-4a0fb1df21e3"
      },
      "execution_count": 14,
      "outputs": [
        {
          "output_type": "stream",
          "name": "stdout",
          "text": [
            "python\n"
          ]
        }
      ]
    },
    {
      "cell_type": "markdown",
      "source": [
        "2) start(): 매치된 문자열의 시작 위치를 리턴"
      ],
      "metadata": {
        "id": "Q-zm4hsuySeu"
      }
    },
    {
      "cell_type": "code",
      "source": [
        " import re\n",
        " p = re.compile('[a-z]+')\n",
        "\n",
        " m = p.match('python')\n",
        " \n",
        " print(m.start())"
      ],
      "metadata": {
        "colab": {
          "base_uri": "https://localhost:8080/"
        },
        "id": "2aRmlIpSwCYv",
        "outputId": "b13a0706-f431-4dec-d1be-47bcb37f4227"
      },
      "execution_count": 15,
      "outputs": [
        {
          "output_type": "stream",
          "name": "stdout",
          "text": [
            "0\n"
          ]
        }
      ]
    },
    {
      "cell_type": "markdown",
      "source": [
        "3) end(): 매치된 문자열의 끝 위치를 리턴"
      ],
      "metadata": {
        "id": "7-XlltUtyWBy"
      }
    },
    {
      "cell_type": "code",
      "source": [
        " import re\n",
        " p = re.compile('[a-z]+')\n",
        "\n",
        " m = p.match('python')\n",
        " \n",
        " print(m.end())"
      ],
      "metadata": {
        "colab": {
          "base_uri": "https://localhost:8080/"
        },
        "id": "-TdFUc1FyY-t",
        "outputId": "12cf9bf1-024a-416c-b743-03d76385f83a"
      },
      "execution_count": 16,
      "outputs": [
        {
          "output_type": "stream",
          "name": "stdout",
          "text": [
            "6\n"
          ]
        }
      ]
    },
    {
      "cell_type": "markdown",
      "source": [
        "4) span(): 매치된 문자열의 (시작, 끝)에 해당하는 튜플을 리턴"
      ],
      "metadata": {
        "id": "eO2jXNqKyZVc"
      }
    },
    {
      "cell_type": "code",
      "source": [
        " import re\n",
        " p = re.compile('[a-z]+')\n",
        "\n",
        " m = p.match('python')\n",
        " \n",
        " print(m.span())"
      ],
      "metadata": {
        "colab": {
          "base_uri": "https://localhost:8080/"
        },
        "id": "5IhojsxuyZGt",
        "outputId": "b5e8ddfe-eaa9-4e02-9824-c128274bbf45"
      },
      "execution_count": 17,
      "outputs": [
        {
          "output_type": "stream",
          "name": "stdout",
          "text": [
            "(0, 6)\n"
          ]
        }
      ]
    },
    {
      "cell_type": "markdown",
      "source": [
        "5. 컴파일 옵션 (S,I,M,X)"
      ],
      "metadata": {
        "id": "7OmOgq5nzEDk"
      }
    },
    {
      "cell_type": "markdown",
      "source": [
        "1) DOTALL (S) : '.'를 줄바꿈 문자도 포함하도록 만드는 옵션"
      ],
      "metadata": {
        "id": "7J29bQoJzIjm"
      }
    },
    {
      "cell_type": "code",
      "source": [
        "p = re.compile('a.b')\n",
        "\n",
        "m = p.match('a\\nb')\n",
        "print(m)"
      ],
      "metadata": {
        "colab": {
          "base_uri": "https://localhost:8080/"
        },
        "id": "XUYd08DXyZEF",
        "outputId": "75bd24b9-b228-4f24-a350-63b053b4837e"
      },
      "execution_count": 18,
      "outputs": [
        {
          "output_type": "stream",
          "name": "stdout",
          "text": [
            "None\n"
          ]
        }
      ]
    },
    {
      "cell_type": "code",
      "source": [
        "p = re.compile('a.b', re.DOTALL)\n",
        "p = re.compile('a.b', re.S)\n",
        "\n",
        "m = p.match('a\\nb')\n",
        "print(m)"
      ],
      "metadata": {
        "colab": {
          "base_uri": "https://localhost:8080/"
        },
        "id": "rSq2QDAJzdI-",
        "outputId": "c4e0ed98-abe1-44d9-947a-b949afcc0ffa"
      },
      "execution_count": 20,
      "outputs": [
        {
          "output_type": "stream",
          "name": "stdout",
          "text": [
            "<re.Match object; span=(0, 3), match='a\\nb'>\n"
          ]
        }
      ]
    },
    {
      "cell_type": "markdown",
      "source": [
        "2) IGNORECASE (I) : 대소문자 구분을 하지 않도록 만드는 옵션"
      ],
      "metadata": {
        "id": "0aIQ3iPJ0Kfn"
      }
    },
    {
      "cell_type": "code",
      "source": [
        "p = re.compile('[a-z]')\n",
        "\n",
        "print(p.match('python'))\n",
        "print(p.match('Python'))\n",
        "print(p.match('PYTHON'))"
      ],
      "metadata": {
        "colab": {
          "base_uri": "https://localhost:8080/"
        },
        "id": "O-2wjory0Z4Y",
        "outputId": "c5221294-9658-4f2f-8665-0630caed1bc8"
      },
      "execution_count": 21,
      "outputs": [
        {
          "output_type": "stream",
          "name": "stdout",
          "text": [
            "<re.Match object; span=(0, 1), match='p'>\n",
            "None\n",
            "None\n"
          ]
        }
      ]
    },
    {
      "cell_type": "code",
      "source": [
        "p = re.compile('[a-z]', re.I)\n",
        "\n",
        "print(p.match('python'))\n",
        "print(p.match('Python'))\n",
        "print(p.match('PYTHON'))"
      ],
      "metadata": {
        "colab": {
          "base_uri": "https://localhost:8080/"
        },
        "id": "nuF1oCeayZBN",
        "outputId": "bc45da03-876c-4a18-f563-f7d295137f33"
      },
      "execution_count": 22,
      "outputs": [
        {
          "output_type": "stream",
          "name": "stdout",
          "text": [
            "<re.Match object; span=(0, 1), match='p'>\n",
            "<re.Match object; span=(0, 1), match='P'>\n",
            "<re.Match object; span=(0, 1), match='P'>\n"
          ]
        }
      ]
    },
    {
      "cell_type": "markdown",
      "source": [
        "3) MULTILINE (M) : 줄 별로 읽어들일 수 있는 옵션"
      ],
      "metadata": {
        "id": "Oc6GLQuv0iQQ"
      }
    },
    {
      "cell_type": "code",
      "source": [
        "p = re.compile(\"^python\\s\\w+\") # 맨 처음 python이라는 단어가 나오고 공백(\\s) 뒤에 단어(\\w)가 반복(+)\n",
        "\n",
        "data = \"\"\"python one\n",
        "life is too short\n",
        "python two python four\n",
        "you need python\n",
        "python three\"\"\"\n",
        "\n",
        "print(p.findall(data))"
      ],
      "metadata": {
        "colab": {
          "base_uri": "https://localhost:8080/"
        },
        "id": "iCnahhWF0hzu",
        "outputId": "27404560-93b5-4c98-e6d3-adda89bbc873"
      },
      "execution_count": 24,
      "outputs": [
        {
          "output_type": "stream",
          "name": "stdout",
          "text": [
            "['python one']\n"
          ]
        }
      ]
    },
    {
      "cell_type": "code",
      "source": [
        "p = re.compile(\"^python\\s\\w+\", re.M) \n",
        "\n",
        "data = \"\"\"python one\n",
        "life is too short\n",
        "python two python four\n",
        "you need python\n",
        "python three\"\"\"\n",
        "\n",
        "print(p.findall(data))"
      ],
      "metadata": {
        "colab": {
          "base_uri": "https://localhost:8080/"
        },
        "id": "yADkax1h1S0-",
        "outputId": "4eea357a-9e53-43b6-89b4-6b415742a830"
      },
      "execution_count": 25,
      "outputs": [
        {
          "output_type": "stream",
          "name": "stdout",
          "text": [
            "['python one', 'python two', 'python three']\n"
          ]
        }
      ]
    },
    {
      "cell_type": "markdown",
      "source": [
        "4) VERVOSE (X) : 정규표현식을 줄바꿈으로 나눠서도 (공백을 제거해서) 작성할 수 있게 해주는 옵션"
      ],
      "metadata": {
        "id": "apTYBfyG1k0W"
      }
    },
    {
      "cell_type": "code",
      "source": [
        "charref = re.compile(r'&[#](0[0-7]+|[0-9]+|x[0-9a-fA-F]+);')\n",
        "\n",
        "charref = re.compile(r\"\"\"\n",
        "&[#]                  # Start of a numeric entity reference\n",
        "(\n",
        "    0[0-7]+           # Octal form\n",
        "  | [0-9]+            # Decimal form\n",
        "  | x[0-9a-fA-F]+     # Hexadecimal form\n",
        ")\n",
        ";                     # Trailing semicolon\n",
        "\"\"\", re.VERBOSE)"
      ],
      "metadata": {
        "id": "cse81YbN0hxB"
      },
      "execution_count": 26,
      "outputs": []
    },
    {
      "cell_type": "markdown",
      "source": [
        "6. 백슬래시 문제"
      ],
      "metadata": {
        "id": "z7XuQRXV2xkQ"
      }
    },
    {
      "cell_type": "code",
      "source": [
        "\"\"\"\n",
        "[0-9] 또는 [a-zA-Z] 등은 무척 자주 사용하는 정규표현식이고, 이러한 정규식은 별도의 표기법으로 표현 가능\n",
        "\n",
        "\\d : 숫자와 매치, [0-9]와 동일한 표현식\n",
        "\\D : 숫자가 아닌 것과 매치, [^0-9]와 동일한 표현\n",
        "\\s : whitespace 문자(space나 tab처럼 공백을 표현하는 문자)와 매치, [\\t\\n\\r\\f\\v]와 동일한 표현식. \n",
        "\\S : whitespace 문자가 아닌 것과 매치\n",
        "\\w : 문자+숫자(alphanumeric)와 매치, [a-zA-Z0-9_]와 동일한 표현식\n",
        "\\W : alphanumeric이 아닌 문자와 매치\n",
        "\"\"\""
      ],
      "metadata": {
        "id": "vi7ppmli0huE"
      },
      "execution_count": null,
      "outputs": []
    },
    {
      "cell_type": "code",
      "source": [
        "# 파이썬은 \\\\를 \\로 치환하기 때문에 문제 발생\n",
        "# Raw String (r'')로 백슬레시 문제를 해결할 수 있음"
      ],
      "metadata": {
        "id": "LvVF2mzYuTQe"
      },
      "execution_count": null,
      "outputs": []
    },
    {
      "cell_type": "markdown",
      "source": [
        "7. 고급 정규표현식"
      ],
      "metadata": {
        "id": "L0Yf79zb4R4z"
      }
    },
    {
      "cell_type": "markdown",
      "source": [
        "1) 메타문자 심화 |, ^, $, \\b"
      ],
      "metadata": {
        "id": "Q8gJghQb4U7w"
      }
    },
    {
      "cell_type": "code",
      "source": [
        "# 메타문자 | : or\n",
        "\n",
        "p = re.compile('Crow|Servo')\n",
        "m = p.match('CrowHello')\n",
        "print(m)"
      ],
      "metadata": {
        "colab": {
          "base_uri": "https://localhost:8080/"
        },
        "id": "f0GiAYf64XMe",
        "outputId": "bfa56cc6-e067-4ff8-d510-1d611c98fbc0"
      },
      "execution_count": 27,
      "outputs": [
        {
          "output_type": "stream",
          "name": "stdout",
          "text": [
            "<re.Match object; span=(0, 4), match='Crow'>\n"
          ]
        }
      ]
    },
    {
      "cell_type": "code",
      "source": [
        "# 메타문자 ^ : 문자의 시작\n",
        "\n",
        "print(re.search('^Life', 'Life is too short'))\n",
        "print(re.search('^Life', 'My Life'))\n",
        "# search()의 첫 인자에 컴파일 조건을 주고, 두 번째 인자에 문장을 주면 한번에 compile, search 가능 "
      ],
      "metadata": {
        "colab": {
          "base_uri": "https://localhost:8080/"
        },
        "id": "qHwmxcL64XJU",
        "outputId": "c9f35896-dd80-40ee-e722-875a3370984e"
      },
      "execution_count": 29,
      "outputs": [
        {
          "output_type": "stream",
          "name": "stdout",
          "text": [
            "<re.Match object; span=(0, 4), match='Life'>\n",
            "None\n"
          ]
        }
      ]
    },
    {
      "cell_type": "code",
      "source": [
        "# 메타문자 $ : 문자의 끝\n",
        "\n",
        "print(re.search('short$', 'Life is too short'))\n",
        "print(re.search('short$', 'Life is too short, you need python'))"
      ],
      "metadata": {
        "colab": {
          "base_uri": "https://localhost:8080/"
        },
        "id": "QWuAt6024Wku",
        "outputId": "af3f69f7-441f-4f19-8241-c8e7986ca8be"
      },
      "execution_count": 30,
      "outputs": [
        {
          "output_type": "stream",
          "name": "stdout",
          "text": [
            "<re.Match object; span=(12, 17), match='short'>\n",
            "None\n"
          ]
        }
      ]
    },
    {
      "cell_type": "code",
      "source": [
        "# 메타문자 \\b : 공백을 나타내는 메타문자 (raw string 사용)\n",
        "\n",
        "p = re.compile(r'\\bclass\\b')\n",
        "\n",
        "print(p.search('no class at all'))\n",
        "print(p.search('the declassified algorithm'))\n",
        "print(p.search('one subclass is'))"
      ],
      "metadata": {
        "colab": {
          "base_uri": "https://localhost:8080/"
        },
        "id": "HTIjVgGR5bGx",
        "outputId": "ee39262f-b711-49bf-e410-e52b21284bcf"
      },
      "execution_count": 31,
      "outputs": [
        {
          "output_type": "stream",
          "name": "stdout",
          "text": [
            "<re.Match object; span=(3, 8), match='class'>\n",
            "None\n",
            "None\n"
          ]
        }
      ]
    },
    {
      "cell_type": "markdown",
      "source": [
        "2) 그룹핑 ()"
      ],
      "metadata": {
        "id": "bMP1WrWw6Xns"
      }
    },
    {
      "cell_type": "code",
      "source": [
        "p = re.compile('(ABC)+')\n",
        "\n",
        "m = p.search('ABCABCABC OK?')\n",
        "\n",
        "print(m)\n",
        "print(m.group())"
      ],
      "metadata": {
        "colab": {
          "base_uri": "https://localhost:8080/"
        },
        "id": "ShkAeGv_5bEA",
        "outputId": "ee651111-64ec-4300-fea0-5f9f730e15c8"
      },
      "execution_count": 36,
      "outputs": [
        {
          "output_type": "stream",
          "name": "stdout",
          "text": [
            "<re.Match object; span=(0, 9), match='ABCABCABC'>\n",
            "ABCABCABC\n"
          ]
        }
      ]
    },
    {
      "cell_type": "code",
      "source": [
        "p = re.compile(r'(\\w+)\\s+(\\d+)[-](\\d+)[-](\\d+)')\n",
        "\n",
        "m = p.search('park 010-1234-5678')\n",
        "print(m.group(0))\n",
        "print(m.group(1))\n",
        "print(m.group(2))\n",
        "print(m.group(3))\n",
        "print(m.group(4))\n",
        "\n",
        "p = re.compile(r'(\\b\\w+)\\s+\\1') # 그룹핑이 걸린 것이 한 번 더 불러옴\n",
        "print(p.search('Paris in the the spring').group())\n",
        "\n",
        "p = re.compile(r'(?P<name>\\w+)\\s+\\d+[-]\\d+[-]\\d+') #?P<name>으로 그룹에 이름을 붙일 수 있음\n",
        "m = p.search('park 010-1234-1234')\n",
        "print(m.group('name'))\n",
        "\n",
        "p = re.compile(r'(?P<word>\\b\\w+)\\s+(?P=word)') # 그룹핑에 이름 지어놓은 걸 뒤에 (?P=word)로 \\1과 같은 효과\n",
        "print(p.search('Paris in the the spring').group())"
      ],
      "metadata": {
        "colab": {
          "base_uri": "https://localhost:8080/"
        },
        "id": "EGWLn7SM5bBc",
        "outputId": "3aa40e87-c67d-4192-9bfe-82ce24303abf"
      },
      "execution_count": 65,
      "outputs": [
        {
          "output_type": "stream",
          "name": "stdout",
          "text": [
            "park 010-1234-5678\n",
            "park\n",
            "010\n",
            "1234\n",
            "5678\n",
            "the the\n",
            "park\n",
            "the the\n"
          ]
        }
      ]
    },
    {
      "cell_type": "markdown",
      "source": [
        "3) 전방탐색"
      ],
      "metadata": {
        "id": "dYquOA7L-0sL"
      }
    },
    {
      "cell_type": "code",
      "source": [
        "# 긍정형 (?=)\n",
        "p = re.compile('.+:')\n",
        "m = p.search('http://google.com')\n",
        "print(m.group())\n",
        "\n",
        "p = re.compile('.+(?=:)') # (?=:) : :에 걸리기 전까지만\n",
        "m = p.search('http://google.com')\n",
        "print(m.group())"
      ],
      "metadata": {
        "colab": {
          "base_uri": "https://localhost:8080/"
        },
        "id": "vzv7a46G5a-l",
        "outputId": "aa598f98-998f-4909-b58c-dc8291de0f58"
      },
      "execution_count": 68,
      "outputs": [
        {
          "output_type": "stream",
          "name": "stdout",
          "text": [
            "http:\n",
            "http\n"
          ]
        }
      ]
    },
    {
      "cell_type": "code",
      "source": [
        "# 부정형 (?!)\n",
        "p = re.compile('.*[.](?!bat$).*$', re.M)\n",
        "l = p.findall(\"\"\"\n",
        "autoexec.exe\n",
        "autoexec.bat\n",
        "autoexec.jpg\n",
        "\"\"\")\n",
        "print(l)"
      ],
      "metadata": {
        "colab": {
          "base_uri": "https://localhost:8080/"
        },
        "id": "VTqHAMtW_aIy",
        "outputId": "fa00dbe1-360d-4a6b-9e56-3e66379c3e85"
      },
      "execution_count": 72,
      "outputs": [
        {
          "output_type": "stream",
          "name": "stdout",
          "text": [
            "['autoexec.exe', 'autoexec.jpg']\n"
          ]
        }
      ]
    },
    {
      "cell_type": "markdown",
      "source": [
        "4) 문자열 바꾸기 sub"
      ],
      "metadata": {
        "id": "8tnuoCkYAAct"
      }
    },
    {
      "cell_type": "code",
      "source": [
        "p = re.compile('(blue|white|red)')\n",
        "p.sub('color', 'blue socks and red shoes') # sub(a,b) : b에서 정규표현식에 일치하는 부분을 a로 바꿔라\n",
        "\n"
      ],
      "metadata": {
        "colab": {
          "base_uri": "https://localhost:8080/",
          "height": 35
        },
        "id": "HuxvNR8N_-b5",
        "outputId": "ab365f40-e44b-451f-db37-702eb8aef2e8"
      },
      "execution_count": 74,
      "outputs": [
        {
          "output_type": "execute_result",
          "data": {
            "text/plain": [
              "'color socks and color shoes'"
            ],
            "application/vnd.google.colaboratory.intrinsic+json": {
              "type": "string"
            }
          },
          "metadata": {},
          "execution_count": 74
        }
      ]
    },
    {
      "cell_type": "markdown",
      "source": [
        "5) Greedy vs Non-Greedy"
      ],
      "metadata": {
        "id": "gWs5foGmAZHW"
      }
    },
    {
      "cell_type": "code",
      "source": [
        "s = '<html><head><title>Title<\\title>'\n",
        "\n",
        "print(re.match('<.*>', s).group()) # Greedy 모든 걸 가져와버림\n",
        "print(re.match('<.*?>', s).group()) # Non-Greedy 최소한으로 끝남"
      ],
      "metadata": {
        "colab": {
          "base_uri": "https://localhost:8080/"
        },
        "id": "rIzjJKY0ACYW",
        "outputId": "85959b06-7d60-4842-c48b-270eedf7aa58"
      },
      "execution_count": 78,
      "outputs": [
        {
          "output_type": "stream",
          "name": "stdout",
          "text": [
            "<html><head><title>Title<\title>\n",
            "<html>\n"
          ]
        }
      ]
    }
  ]
}