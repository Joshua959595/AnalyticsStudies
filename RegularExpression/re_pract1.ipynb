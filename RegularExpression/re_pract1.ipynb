{
  "nbformat": 4,
  "nbformat_minor": 0,
  "metadata": {
    "colab": {
      "provenance": []
    },
    "kernelspec": {
      "name": "python3",
      "display_name": "Python 3"
    },
    "language_info": {
      "name": "python"
    }
  },
  "cells": [
    {
      "cell_type": "code",
      "execution_count": 3,
      "metadata": {
        "id": "x-05wcG5mcj8"
      },
      "outputs": [],
      "source": [
        "import re"
      ]
    },
    {
      "cell_type": "code",
      "source": [
        "text = '문의사항이 있으면 032-232-3245 으로 연락주시기 바랍니다.'\n",
        "\n",
        "regex = re.compile(r'\\d+-\\d+-\\d+')\n",
        "matchobj = regex.search(text)\n",
        "phonenumber = matchobj.group()\n",
        "print(phonenumber)"
      ],
      "metadata": {
        "colab": {
          "base_uri": "https://localhost:8080/"
        },
        "id": "2BYP456znRD0",
        "outputId": "d2ffdf30-80b9-4233-8462-4583b84be03f"
      },
      "execution_count": 4,
      "outputs": [
        {
          "output_type": "stream",
          "name": "stdout",
          "text": [
            "032-232-3245\n"
          ]
        }
      ]
    },
    {
      "cell_type": "code",
      "source": [
        "text = '에러 1122 : 레퍼런스 오류\\n 에러 1033 : 아규먼트 오류'\n",
        "\n",
        "regex = re.compile('에러\\s\\d+')\n",
        "mc = regex.findall(text)\n",
        "print(mc)"
      ],
      "metadata": {
        "colab": {
          "base_uri": "https://localhost:8080/"
        },
        "id": "B-O9J9S2nuuy",
        "outputId": "83426781-cee1-4403-812e-8a83d8a6a4af"
      },
      "execution_count": 5,
      "outputs": [
        {
          "output_type": "stream",
          "name": "stdout",
          "text": [
            "['에러 1122', '에러 1033']\n"
          ]
        }
      ]
    },
    {
      "cell_type": "code",
      "source": [
        "text = '문의사항이 있으면 032-232-3245 으로 연락주시기 바랍니다.'\n",
        "\n",
        "regex = re.compile(r'(\\d+)-(\\d+-\\d+)')\n",
        "matchobj = regex.search(text)\n",
        "areaCode = matchobj.group(1)\n",
        "num = matchobj.group(2)\n",
        "fullNum = matchobj.group()\n",
        "print(areaCode, num)"
      ],
      "metadata": {
        "colab": {
          "base_uri": "https://localhost:8080/"
        },
        "id": "SHfXdLN3oKDE",
        "outputId": "02b2ac1a-2948-4190-f558-99b7dbb5a353"
      },
      "execution_count": 6,
      "outputs": [
        {
          "output_type": "stream",
          "name": "stdout",
          "text": [
            "032 232-3245\n"
          ]
        }
      ]
    },
    {
      "cell_type": "code",
      "source": [
        "text = '문의사항이 있으면 032-232-3245 으로 연락주시기 바랍니다.'\n",
        "\n",
        "regex = re.compile(r'(?P<area>\\d{3})-(?P<num>\\d{3}-\\d{4})')\n",
        "matchobj = regex.search(text)\n",
        "areaCode = matchobj.group(\"area\")\n",
        "num = matchobj.group('num')\n",
        "print(areaCode, num)"
      ],
      "metadata": {
        "colab": {
          "base_uri": "https://localhost:8080/"
        },
        "id": "dGEqU7owofJo",
        "outputId": "d2127e48-f2db-4398-85ed-1ae268b393b3"
      },
      "execution_count": 8,
      "outputs": [
        {
          "output_type": "stream",
          "name": "stdout",
          "text": [
            "032 232-3245\n"
          ]
        }
      ]
    },
    {
      "cell_type": "code",
      "source": [
        "# DD/MM/YYYY 형태로된 날짜 탐지 정규표현식 작성\n",
        "# DD:01~31 / MM:01~12 / YYYY:1000~2999\n",
        "# 숫자 한 개의 경우 앞에 0이 붙음\n",
        "\n",
        "text = '31/02/2012'\n",
        "\n",
        "regex = re.compile(r'(?P<day>[0-2]\\d|3[01])/(?P<month>0\\d|1[0-2])/(?P<year>[12]\\d{3})')\n",
        "matchobj = regex.search(text)\n",
        "year = matchobj.group(\"year\")\n",
        "month = matchobj.group('month')\n",
        "day = matchobj.group('day')\n",
        "print(year, month, day)"
      ],
      "metadata": {
        "colab": {
          "base_uri": "https://localhost:8080/"
        },
        "id": "jHpxfu6so4s0",
        "outputId": "cc6e4e54-4f7c-4305-c780-908a3881ebf7"
      },
      "execution_count": 9,
      "outputs": [
        {
          "output_type": "stream",
          "name": "stdout",
          "text": [
            "2012 02 31\n"
          ]
        }
      ]
    },
    {
      "cell_type": "code",
      "source": [
        "# 비밀번호의 최소길이는 8이상\n",
        "# 대소문자를 모두 포함\n",
        "# 적어도 하나의 숫자\n",
        "\n",
        "pw = 'QWERASDFZXCVqwerasdfzcxv12345678'\n",
        "\n",
        "regex = re.compile(^(=?.*[A-Z])(=?.*[a-z])(=?.*[0-9]).{8,}$)\n",
        "matchobj = regex.match()\n",
        "print(matchobj)\n"
      ],
      "metadata": {
        "colab": {
          "base_uri": "https://localhost:8080/",
          "height": 137
        },
        "id": "9fOWAxiZqcnV",
        "outputId": "a8050e23-9a0f-4578-ec22-1728416158b9"
      },
      "execution_count": 13,
      "outputs": [
        {
          "output_type": "error",
          "ename": "SyntaxError",
          "evalue": "ignored",
          "traceback": [
            "\u001b[0;36m  File \u001b[0;32m\"<ipython-input-13-dc796b032d62>\"\u001b[0;36m, line \u001b[0;32m7\u001b[0m\n\u001b[0;31m    regex = re.compile(^(=?.*[A-Z])(=?.*[a-z])(=?.*[0-9]).{8,}$)\u001b[0m\n\u001b[0m                       ^\u001b[0m\n\u001b[0;31mSyntaxError\u001b[0m\u001b[0;31m:\u001b[0m invalid syntax\n"
          ]
        }
      ]
    }
  ]
}