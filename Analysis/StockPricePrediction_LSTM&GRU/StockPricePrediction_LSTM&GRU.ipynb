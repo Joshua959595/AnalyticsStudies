{
  "nbformat": 4,
  "nbformat_minor": 0,
  "metadata": {
    "colab": {
      "provenance": []
    },
    "kernelspec": {
      "name": "python3",
      "display_name": "Python 3"
    },
    "language_info": {
      "name": "python"
    }
  },
  "cells": [
    {
      "cell_type": "markdown",
      "source": [
        "- Referring <A Technical Guide on RNN/LSTM/GRU for Stock Price Prediction> by Chris Kuo/Dr.Dataman\n",
        "- https://medium.com/swlh/a-technical-guide-on-rnn-lstm-gru-for-stock-price-prediction-bce2f7f30346"
      ],
      "metadata": {
        "id": "SgNLMCWj83QP"
      }
    },
    {
      "cell_type": "markdown",
      "source": [
        "0. Setting"
      ],
      "metadata": {
        "id": "bh7Xoz_L-7iX"
      }
    },
    {
      "cell_type": "code",
      "execution_count": null,
      "metadata": {
        "colab": {
          "base_uri": "https://localhost:8080/"
        },
        "id": "l6nZJUul8xk0",
        "outputId": "478c463f-be22-4ab8-df04-605585dbaba1"
      },
      "outputs": [
        {
          "output_type": "stream",
          "name": "stdout",
          "text": [
            "Looking in indexes: https://pypi.org/simple, https://us-python.pkg.dev/colab-wheels/public/simple/\n",
            "Requirement already satisfied: yfinance in /usr/local/lib/python3.10/dist-packages (0.2.18)\n",
            "Requirement already satisfied: pandas>=1.3.0 in /usr/local/lib/python3.10/dist-packages (from yfinance) (1.5.3)\n",
            "Requirement already satisfied: numpy>=1.16.5 in /usr/local/lib/python3.10/dist-packages (from yfinance) (1.22.4)\n",
            "Requirement already satisfied: requests>=2.26 in /usr/local/lib/python3.10/dist-packages (from yfinance) (2.27.1)\n",
            "Requirement already satisfied: multitasking>=0.0.7 in /usr/local/lib/python3.10/dist-packages (from yfinance) (0.0.11)\n",
            "Requirement already satisfied: lxml>=4.9.1 in /usr/local/lib/python3.10/dist-packages (from yfinance) (4.9.2)\n",
            "Requirement already satisfied: appdirs>=1.4.4 in /usr/local/lib/python3.10/dist-packages (from yfinance) (1.4.4)\n",
            "Requirement already satisfied: pytz>=2022.5 in /usr/local/lib/python3.10/dist-packages (from yfinance) (2022.7.1)\n",
            "Requirement already satisfied: frozendict>=2.3.4 in /usr/local/lib/python3.10/dist-packages (from yfinance) (2.3.7)\n",
            "Requirement already satisfied: cryptography>=3.3.2 in /usr/local/lib/python3.10/dist-packages (from yfinance) (40.0.2)\n",
            "Requirement already satisfied: beautifulsoup4>=4.11.1 in /usr/local/lib/python3.10/dist-packages (from yfinance) (4.11.2)\n",
            "Requirement already satisfied: html5lib>=1.1 in /usr/local/lib/python3.10/dist-packages (from yfinance) (1.1)\n",
            "Requirement already satisfied: soupsieve>1.2 in /usr/local/lib/python3.10/dist-packages (from beautifulsoup4>=4.11.1->yfinance) (2.4.1)\n",
            "Requirement already satisfied: cffi>=1.12 in /usr/local/lib/python3.10/dist-packages (from cryptography>=3.3.2->yfinance) (1.15.1)\n",
            "Requirement already satisfied: six>=1.9 in /usr/local/lib/python3.10/dist-packages (from html5lib>=1.1->yfinance) (1.16.0)\n",
            "Requirement already satisfied: webencodings in /usr/local/lib/python3.10/dist-packages (from html5lib>=1.1->yfinance) (0.5.1)\n",
            "Requirement already satisfied: python-dateutil>=2.8.1 in /usr/local/lib/python3.10/dist-packages (from pandas>=1.3.0->yfinance) (2.8.2)\n",
            "Requirement already satisfied: urllib3<1.27,>=1.21.1 in /usr/local/lib/python3.10/dist-packages (from requests>=2.26->yfinance) (1.26.15)\n",
            "Requirement already satisfied: certifi>=2017.4.17 in /usr/local/lib/python3.10/dist-packages (from requests>=2.26->yfinance) (2022.12.7)\n",
            "Requirement already satisfied: charset-normalizer~=2.0.0 in /usr/local/lib/python3.10/dist-packages (from requests>=2.26->yfinance) (2.0.12)\n",
            "Requirement already satisfied: idna<4,>=2.5 in /usr/local/lib/python3.10/dist-packages (from requests>=2.26->yfinance) (3.4)\n",
            "Requirement already satisfied: pycparser in /usr/local/lib/python3.10/dist-packages (from cffi>=1.12->cryptography>=3.3.2->yfinance) (2.21)\n"
          ]
        }
      ],
      "source": [
        "!pip install yfinance\n",
        "import numpy as np\n",
        "import pandas as pd\n",
        "import yfinance as yf\n",
        "\n",
        "from matplotlib import pyplot as plt\n",
        "import seaborn as sns"
      ]
    },
    {
      "cell_type": "markdown",
      "source": [
        "1. Data"
      ],
      "metadata": {
        "id": "rYEhP383-8uG"
      }
    },
    {
      "cell_type": "code",
      "source": [
        "'''\n",
        "방법 I: history\n",
        "name = 종목 ticker # Yahoo finance 참고\n",
        "ticker = yf.Ticker(name)\n",
        "data = ticker.history(interval = '1d', period = 조회기간, start, end, auto_adjust : 수정주가)\n",
        "'''"
      ],
      "metadata": {
        "id": "LlJDIGYF-3Ul"
      },
      "execution_count": null,
      "outputs": []
    },
    {
      "cell_type": "code",
      "source": [
        "# train: 아마존의 13-18 일일 주가\n",
        "# test:  아마존의 19 일일 주가\n",
        "\n",
        "# 방법 II: yf.download(이름, startDate, endDate, progress: , interval: 간격)\n",
        "AMZN = yf.download('AMZN',\n",
        "                   start = '2013-01-01',\n",
        "                   end = '2019-12-13',\n",
        "                   progress = False\n",
        "                   )\n",
        "\n",
        "all_data = AMZN[['Adj Close', 'Open', 'High', 'Low', 'Close', 'Volume']].round(2)\n",
        "print(all_data.head(10))\n",
        "\n",
        "print(\"There are \" + str(all_data[:'2018'].shape[0]) + \"observations in the training data\")\n",
        "print(\"There are \" + str(all_data['2019':].shape[0]) + 'observations in the test data')"
      ],
      "metadata": {
        "colab": {
          "base_uri": "https://localhost:8080/"
        },
        "id": "N1hJBbNF-OGG",
        "outputId": "0ba227e9-7097-426a-e36e-af1c931f673b"
      },
      "execution_count": null,
      "outputs": [
        {
          "output_type": "stream",
          "name": "stdout",
          "text": [
            "            Adj Close   Open   High    Low  Close    Volume\n",
            "Date                                                       \n",
            "2013-01-02      12.87  12.80  12.90  12.66  12.87  65420000\n",
            "2013-01-03      12.92  12.86  13.04  12.82  12.92  55018000\n",
            "2013-01-04      12.96  12.88  12.99  12.83  12.96  37484000\n",
            "2013-01-07      13.42  13.15  13.49  13.13  13.42  98200000\n",
            "2013-01-08      13.32  13.35  13.45  13.18  13.32  60214000\n",
            "2013-01-09      13.32  13.41  13.48  13.27  13.32  45312000\n",
            "2013-01-10      13.27  13.43  13.44  13.11  13.27  57268000\n",
            "2013-01-11      13.40  13.26  13.42  13.21  13.40  48266000\n",
            "2013-01-14      13.64  13.40  13.71  13.38  13.64  85500000\n",
            "2013-01-15      13.60  13.53  13.64  13.47  13.60  46538000\n",
            "There are 1510observations in the training data\n",
            "There are 240observations in the test data\n"
          ]
        }
      ]
    },
    {
      "cell_type": "code",
      "source": [
        "all_data['Adj Close'].plot()"
      ],
      "metadata": {
        "colab": {
          "base_uri": "https://localhost:8080/",
          "height": 440
        },
        "id": "zUgx6nZx-OD1",
        "outputId": "200c5f6e-4cca-4dca-e6aa-c32767e2e421"
      },
      "execution_count": null,
      "outputs": [
        {
          "output_type": "execute_result",
          "data": {
            "text/plain": [
              "<Axes: xlabel='Date'>"
            ]
          },
          "metadata": {},
          "execution_count": 3
        },
        {
          "output_type": "display_data",
          "data": {
            "text/plain": [
              "<Figure size 640x480 with 1 Axes>"
            ],
            "image/png": "[encoded data removed]"
          },
          "metadata": {}
        }
      ]
    },
    {
      "cell_type": "markdown",
      "source": [
        "2. Modeling"
      ],
      "metadata": {
        "id": "YdSigcr_BGJG"
      }
    },
    {
      "cell_type": "code",
      "source": [
        "# LSTM과 GRU에서 활용하는 입출력 구조\n",
        "'''\n",
        "1) Many 2 Many\n",
        "- producing an output for each input\n",
        "- 과거 X일 동안의 데이터를 사용해서, 미래 Y일 동안의 데이터를 예측\n",
        "  ex) window에 따라 5가지 시계열 입력값과 2개의 출력\n",
        "- LSTM/GRU는 3차원 배열의 입력값을 사용하기 때문에 데이터를 3차원으로 재구성할 필요 있음\n",
        "  A) samples : 데이터의 크기이며, 원본 데이터를 window size에 따라 슬라이싱 할 경우 생기는 데이터의 개수\n",
        "  B) time steps: 과거 몇 개의 데이터를 볼 것인가를 나타내며, 네트워크에 사용할 시간 단위\n",
        "  C) features: X의 변수 개수 (X의 차원)\n",
        "\n",
        "2) Many 2 One\n",
        "- producing an output for final input\n",
        "- 과거 X일 동안의 데이터를 사용해서, 미래 1일의 데이터를 예측\n",
        "- window size에 따라 (데이터가 0-6까지 있고, feature 5개, time step이 3이면)\n",
        "  A) samples : 5 -> [0,1,2], [1,2,3], [2,3,4], [3,4,5], [4,5,6]\n",
        "  B) time stpes : 3\n",
        "  C) features : 5\n",
        "\n",
        "즉, 3차원 입력데이터\n",
        "X축 : 변수의 개수 (=features)\n",
        "Y축 : 과거 며칠까지의 값을 반영하는가 (=time steps)\n",
        "Z축 : 'features x time steps'의 형태로 원본 데이터를 재구성하면 몇 개의 sub-matirx가 나오는가 (=samples, data size)\n",
        "'''"
      ],
      "metadata": {
        "id": "M0GvQ9Dm-OBe"
      },
      "execution_count": null,
      "outputs": []
    },
    {
      "cell_type": "code",
      "source": [
        "def ts_train_test(all_data, time_steps, for_periods):\n",
        "  '''\n",
        "  input:\n",
        "    data: 날짜를 인덱스로 가지는 주식가격(Adj Close) 데이터\n",
        "  output:\n",
        "    X_train, y_train: 2013-01-01부터 2018-12-31까지의 데이터\n",
        "    X_test : 2019년 동안의 데이터\n",
        "  time_steps: input 데이터의 time steps\n",
        "  for_periods: output 데이터의 time steps\n",
        "  '''\n",
        "\n",
        "  # training & test set 만들기\n",
        "  ts_train = all_data[:'2018'].iloc[:,0:1].values # iloc[행idx, 열idx] <- 여기서는 행 전부 & Date와 Adj Close열\n",
        "  ts_test = all_data['2019':].iloc[:,0:1].values\n",
        "  ts_train_len = len(ts_train)\n",
        "  ts_test_len = len(ts_test)\n",
        "\n",
        "  # 정규화\n",
        "  from sklearn.preprocessing import MinMaxScaler\n",
        "  sc = MinMaxScaler(feature_range = (0,1))\n",
        "  ts_train_scaled = sc.fit_transform(ts_train)\n",
        "\n",
        "  # training 데이터의 samples와 time steps로 원본 데이터 슬라이싱\n",
        "  X_train = []\n",
        "  y_train = []\n",
        "  y_train_stacked = []\n",
        "  for i in range(time_steps, ts_train_len - 1):\n",
        "    X_train.append(ts_train_scaled[i-time_steps:i,0])\n",
        "    y_train.append(ts_train_scaled[i:i+for_periods,0])\n",
        "  X_train, y_train = np.array(X_train), np.array(y_train)\n",
        "\n",
        "  # 3 차원으로 재구성\n",
        "  X_train = np.reshape(X_train, (X_train.shape[0], X_train.shape[1], 1))\n",
        "\n",
        "  # X_test 준비\n",
        "  inputs = pd.concat((all_data[\"Adj Close\"][:'2018'], all_data['Adj Close']['2019':]), axis = 0).values\n",
        "  inputs = inputs[len(inputs) - len(ts_test) - time_steps:]\n",
        "  inputs = inputs.reshape(-1,1)\n",
        "  inputs = sc.transform(inputs)\n",
        "\n",
        "  X_test = []\n",
        "  for i in range(time_steps, ts_test_len + time_steps - for_periods):\n",
        "    X_test.append(inputs[i-time_steps:i, 0])\n",
        "  X_test = np.array(X_test)\n",
        "  X_test = np.reshape(X_test, (X_test.shape[0], X_test.shape[1], 1))\n",
        "\n",
        "  return X_train, y_train, X_test, sc"
      ],
      "metadata": {
        "id": "Xqq0jq_I829-"
      },
      "execution_count": null,
      "outputs": []
    },
    {
      "cell_type": "code",
      "source": [
        "# 5개의 time steps로 미래 2일 동안을 예측한다 하면 1505개의 샘플 생성\n",
        "X_train, y_train, X_test, sc = ts_train_test(all_data, 5, 2)\n",
        "\n",
        "# 3차원의 X_train을 df 형식으로 확인\n",
        "X_train_see = pd.DataFrame(np.reshape(X_train, (X_train.shape[0], X_train.shape[1])))\n",
        "y_train_see = pd.DataFrame(y_train)\n",
        "print(pd.concat([X_train_see, y_train_see], axis = 1))\n",
        "\n",
        "# 3차원의 X_test를 df 형식으로 확인\n",
        "X_test_see = pd.DataFrame(np.reshape(X_test, (X_test.shape[0], X_test.shape[1])))\n",
        "print(pd.DataFrame(X_test_see))\n",
        "\n",
        "\n",
        "print(\"There are \" + str(X_train.shape[0]) + \" samples in the training data\")\n",
        "print('There are ' + str(X_test.shape[0]) + ' samples in the test data')\n"
      ],
      "metadata": {
        "id": "1Du99P7t18sQ"
      },
      "execution_count": null,
      "outputs": []
    },
    {
      "cell_type": "markdown",
      "source": [
        "3. LSTM"
      ],
      "metadata": {
        "id": "-uqU3PKG6e8y"
      }
    },
    {
      "cell_type": "code",
      "source": [
        "def LSTM_model(X_train, y_train, X_test, sc):\n",
        "  from keras.models import Sequential\n",
        "  from keras.layers import Dense, SimpleRNN, GRU, LSTM\n",
        "  from keras.optimizers import SGD\n",
        "\n",
        "  # Architecture\n",
        "  LSTM_model = Sequential()   # 레이어를 선형으로 연결하여 구성\n",
        "  LSTM_model.add(LSTM(\n",
        "      units = 50,\n",
        "      return_sequences = True,\n",
        "      input_shape = (X_train.shape[1], 1),\n",
        "      activation = 'tanh'\n",
        "  ))\n",
        "  LSTM_model.add(LSTM(units = 50, activation = 'tanh')) # 두 번째 이후 레이어들은 자동으로 형태를 추정할 수 있기에 형태 정보 X\n",
        "  LSTM_model.add(Dense(units=2)) # 입력 뉴런과 출력 뉴런을 연결하는 전결합층\n",
        "\n",
        "  # Compiling\n",
        "  LSTM_model.compile(optimizer = SGD(lr = 0.01, decay = 1e-7,\n",
        "                                     momentum = 0.9, nesterov = False),\n",
        "                     loss = 'mean_squared_error')\n",
        "\n",
        "  # train fitting\n",
        "  LSTM_model.fit(X_train, y_train, epochs = 50, batch_size = 150, verbose = 0) # 에폭스 50이면 whole data를 50번 학습\n",
        "\n",
        "  # test predicting\n",
        "  LSTM_prediction = LSTM_model.predict(X_test)\n",
        "\n",
        "  # 스케일러에 예측값 넣어 반환\n",
        "  LSTM_prediction = sc.inverse_transform(LSTM_prediction)\n",
        "\n",
        "  return LSTM_model, LSTM_prediction\n"
      ],
      "metadata": {
        "id": "9xeXIIdd6ex2"
      },
      "execution_count": null,
      "outputs": []
    },
    {
      "cell_type": "code",
      "source": [
        "def actual_pred_plot(preds):\n",
        "  actual_pred = pd.DataFrame(columns = ['Adj. Close', 'prediction'])\n",
        "  actual_pred['Adj. Close'] = all_data.loc['2019':, 'Adj Close'][0:len(preds)]\n",
        "  actual_pred['prediction'] = preds[:,0]\n",
        "\n",
        "  from keras.metrics import MeanSquaredError\n",
        "  m = MeanSquaredError()\n",
        "  m.update_state(np.array(actual_pred['Adj. Close']), np.array(actual_pred['prediction']))\n",
        "\n",
        "  return (m.result().numpy(), actual_pred.plot())"
      ],
      "metadata": {
        "id": "PAb2Z6I_6eur"
      },
      "execution_count": null,
      "outputs": []
    },
    {
      "cell_type": "code",
      "source": [
        "my_LSTM_model, LSTM_prediction = LSTM_model(X_train, y_train, X_test, sc)"
      ],
      "metadata": {
        "colab": {
          "base_uri": "https://localhost:8080/"
        },
        "id": "wOym1sW3827Y",
        "outputId": "2ad1a9ca-8278-476e-bba3-dbc872475140"
      },
      "execution_count": null,
      "outputs": [
        {
          "output_type": "stream",
          "name": "stderr",
          "text": [
            "/usr/local/lib/python3.10/dist-packages/keras/optimizers/legacy/gradient_descent.py:114: UserWarning: The `lr` argument is deprecated, use `learning_rate` instead.\n",
            "  super().__init__(name, **kwargs)\n"
          ]
        },
        {
          "output_type": "stream",
          "name": "stdout",
          "text": [
            "8/8 [==============================] - 1s 4ms/step\n"
          ]
        }
      ]
    },
    {
      "cell_type": "code",
      "source": [
        "actual_pred_plot(LSTM_prediction)"
      ],
      "metadata": {
        "colab": {
          "base_uri": "https://localhost:8080/",
          "height": 451
        },
        "id": "1qh6TsX1825I",
        "outputId": "06c08e67-06d5-4056-edf7-447b59f49d95"
      },
      "execution_count": null,
      "outputs": [
        {
          "output_type": "execute_result",
          "data": {
            "text/plain": [
              "(6.8420277, <Axes: xlabel='Date'>)"
            ]
          },
          "metadata": {},
          "execution_count": 55
        },
        {
          "output_type": "display_data",
          "data": {
            "text/plain": [
              "<Figure size 640x480 with 1 Axes>"
            ],
            "image/png": "[encoded data removed]"
          },
          "metadata": {}
        }
      ]
    },
    {
      "cell_type": "code",
      "source": [
        "y_pred = pd.DataFrame(LSTM_prediction[:,0])\n",
        "y_test = all_data.loc['2019':, 'Adj Close'][0:len(LSTM_prediction)]\n",
        "y_test.reset_index(drop = True, inplace = True)"
      ],
      "metadata": {
        "id": "u3P2baZ6822r"
      },
      "execution_count": null,
      "outputs": []
    },
    {
      "cell_type": "code",
      "source": [
        "from sklearn.metrics import mean_absolute_error, mean_squared_error, mean_squared_log_error, r2_score\n",
        "\n",
        "def confirm_result(y_test, y_pred):\n",
        "  MAE = mean_absolute_error(y_test, y_pred)\n",
        "  RMSE = np.sqrt(mean_squared_error(y_test, y_pred))\n",
        "  MSLE = mean_squared_log_error(y_test, y_pred)\n",
        "  RMSLE = np.sqrt(mean_squared_log_error(y_test, y_pred))\n",
        "  R2 = r2_score(y_test, y_pred)\n",
        "\n",
        "  pd.options.display.float_format = '{:.5f}'.format\n",
        "  Result = pd.DataFrame(data = [MAE, RMSE, RMSLE, R2],\n",
        "                        index = ['MAE', 'RMSE', 'RMSLE', 'R2'],\n",
        "                        columns = ['Results'])\n",
        "  return Result"
      ],
      "metadata": {
        "id": "fMmzYP2xGfnc"
      },
      "execution_count": null,
      "outputs": []
    },
    {
      "cell_type": "code",
      "source": [
        "confirm_result(y_test, y_pred)"
      ],
      "metadata": {
        "colab": {
          "base_uri": "https://localhost:8080/",
          "height": 175
        },
        "id": "UEE1GoCYGfiK",
        "outputId": "64703e75-0b7f-4111-98c6-f8f36c2cf0a1"
      },
      "execution_count": null,
      "outputs": [
        {
          "output_type": "execute_result",
          "data": {
            "text/plain": [
              "       Results\n",
              "MAE    2.13292\n",
              "RMSE   2.61573\n",
              "RMSLE  0.02880\n",
              "R2     0.74485"
            ],
            "text/html": [
              "\n",
              "  <div id=\"df-b8c1b384-a8a1-4ae7-aa43-16cd03ea05ee\">\n",
              "    <div class=\"colab-df-container\">\n",
              "      <div>\n",
              "<style scoped>\n",
              "    .dataframe tbody tr th:only-of-type {\n",
              "        vertical-align: middle;\n",
              "    }\n",
              "\n",
              "    .dataframe tbody tr th {\n",
              "        vertical-align: top;\n",
              "    }\n",
              "\n",
              "    .dataframe thead th {\n",
              "        text-align: right;\n",
              "    }\n",
              "</style>\n",
              "<table border=\"1\" class=\"dataframe\">\n",
              "  <thead>\n",
              "    <tr style=\"text-align: right;\">\n",
              "      <th></th>\n",
              "      <th>Results</th>\n",
              "    </tr>\n",
              "  </thead>\n",
              "  <tbody>\n",
              "    <tr>\n",
              "      <th>MAE</th>\n",
              "      <td>2.13292</td>\n",
              "    </tr>\n",
              "    <tr>\n",
              "      <th>RMSE</th>\n",
              "      <td>2.61573</td>\n",
              "    </tr>\n",
              "    <tr>\n",
              "      <th>RMSLE</th>\n",
              "      <td>0.02880</td>\n",
              "    </tr>\n",
              "    <tr>\n",
              "      <th>R2</th>\n",
              "      <td>0.74485</td>\n",
              "    </tr>\n",
              "  </tbody>\n",
              "</table>\n",
              "</div>\n",
              "      <button class=\"colab-df-convert\" onclick=\"convertToInteractive('df-b8c1b384-a8a1-4ae7-aa43-16cd03ea05ee')\"\n",
              "              title=\"Convert this dataframe to an interactive table.\"\n",
              "              style=\"display:none;\">\n",
              "        \n",
              "  <svg xmlns=\"http://www.w3.org/2000/svg\" height=\"24px\"viewBox=\"0 0 24 24\"\n",
              "       width=\"24px\">\n",
              "    <path d=\"M0 0h24v24H0V0z\" fill=\"none\"/>\n",
              "    <path d=\"M18.56 5.44l.94 2.06.94-2.06 2.06-.94-2.06-.94-.94-2.06-.94 2.06-2.06.94zm-11 1L8.5 8.5l.94-2.06 2.06-.94-2.06-.94L8.5 2.5l-.94 2.06-2.06.94zm10 10l.94 2.06.94-2.06 2.06-.94-2.06-.94-.94-2.06-.94 2.06-2.06.94z\"/><path d=\"M17.41 7.96l-1.37-1.37c-.4-.4-.92-.59-1.43-.59-.52 0-1.04.2-1.43.59L10.3 9.45l-7.72 7.72c-.78.78-.78 2.05 0 2.83L4 21.41c.39.39.9.59 1.41.59.51 0 1.02-.2 1.41-.59l7.78-7.78 2.81-2.81c.8-.78.8-2.07 0-2.86zM5.41 20L4 18.59l7.72-7.72 1.47 1.35L5.41 20z\"/>\n",
              "  </svg>\n",
              "      </button>\n",
              "      \n",
              "  <style>\n",
              "    .colab-df-container {\n",
              "      display:flex;\n",
              "      flex-wrap:wrap;\n",
              "      gap: 12px;\n",
              "    }\n",
              "\n",
              "    .colab-df-convert {\n",
              "      background-color: #E8F0FE;\n",
              "      border: none;\n",
              "      border-radius: 50%;\n",
              "      cursor: pointer;\n",
              "      display: none;\n",
              "      fill: #1967D2;\n",
              "      height: 32px;\n",
              "      padding: 0 0 0 0;\n",
              "      width: 32px;\n",
              "    }\n",
              "\n",
              "    .colab-df-convert:hover {\n",
              "      background-color: #E2EBFA;\n",
              "      box-shadow: 0px 1px 2px rgba(60, 64, 67, 0.3), 0px 1px 3px 1px rgba(60, 64, 67, 0.15);\n",
              "      fill: #174EA6;\n",
              "    }\n",
              "\n",
              "    [theme=dark] .colab-df-convert {\n",
              "      background-color: #3B4455;\n",
              "      fill: #D2E3FC;\n",
              "    }\n",
              "\n",
              "    [theme=dark] .colab-df-convert:hover {\n",
              "      background-color: #434B5C;\n",
              "      box-shadow: 0px 1px 3px 1px rgba(0, 0, 0, 0.15);\n",
              "      filter: drop-shadow(0px 1px 2px rgba(0, 0, 0, 0.3));\n",
              "      fill: #FFFFFF;\n",
              "    }\n",
              "  </style>\n",
              "\n",
              "      <script>\n",
              "        const buttonEl =\n",
              "          document.querySelector('#df-b8c1b384-a8a1-4ae7-aa43-16cd03ea05ee button.colab-df-convert');\n",
              "        buttonEl.style.display =\n",
              "          google.colab.kernel.accessAllowed ? 'block' : 'none';\n",
              "\n",
              "        async function convertToInteractive(key) {\n",
              "          const element = document.querySelector('#df-b8c1b384-a8a1-4ae7-aa43-16cd03ea05ee');\n",
              "          const dataTable =\n",
              "            await google.colab.kernel.invokeFunction('convertToInteractive',\n",
              "                                                     [key], {});\n",
              "          if (!dataTable) return;\n",
              "\n",
              "          const docLinkHtml = 'Like what you see? Visit the ' +\n",
              "            '<a target=\"_blank\" href=https://colab.research.google.com/notebooks/data_table.ipynb>data table notebook</a>'\n",
              "            + ' to learn more about interactive tables.';\n",
              "          element.innerHTML = '';\n",
              "          dataTable['output_type'] = 'display_data';\n",
              "          await google.colab.output.renderOutput(dataTable, element);\n",
              "          const docLink = document.createElement('div');\n",
              "          docLink.innerHTML = docLinkHtml;\n",
              "          element.appendChild(docLink);\n",
              "        }\n",
              "      </script>\n",
              "    </div>\n",
              "  </div>\n",
              "  "
            ]
          },
          "metadata": {},
          "execution_count": 60
        }
      ]
    },
    {
      "cell_type": "markdown",
      "source": [
        "4. GRU"
      ],
      "metadata": {
        "id": "dkGvU4ryHwWi"
      }
    },
    {
      "cell_type": "code",
      "source": [
        "# GRU에는 cell state와 output gate가 없음\n",
        "def GRU_model(X_train, y_train, X_test, sc):\n",
        "  from keras.models import Sequential\n",
        "  from keras.layers import Dense, SimpleRNN, GRU\n",
        "  from keras.optimizers import SGD\n",
        "\n",
        "  # Architecture\n",
        "  GRU_model = Sequential()   # 레이어를 선형으로 연결하여 구성\n",
        "  GRU_model.add(GRU(\n",
        "      units = 50,\n",
        "      return_sequences = True,\n",
        "      input_shape = (X_train.shape[1], 1),\n",
        "      activation = 'tanh'\n",
        "  ))\n",
        "  GRU_model.add(GRU(units = 50, activation = 'tanh')) # 두 번째 이후 레이어들은 자동으로 형태를 추정할 수 있기에 형태 정보 X\n",
        "  GRU_model.add(Dense(units=2)) # 입력 뉴런과 출력 뉴런을 연결하는 전결합층\n",
        "\n",
        "  # Compiling\n",
        "  GRU_model.compile(optimizer = SGD(lr = 0.01, decay = 1e-7,\n",
        "                                     momentum = 0.9, nesterov = False),\n",
        "                     loss = 'mean_squared_error')\n",
        "\n",
        "  # train fitting\n",
        "  GRU_model.fit(X_train, y_train, epochs = 50, batch_size = 150, verbose = 0) # 에폭스 50이면 whole data를 50번 학습\n",
        "\n",
        "  # test predicting\n",
        "  GRU_prediction = GRU_model.predict(X_test)\n",
        "\n",
        "  # 스케일러에 예측값 넣어 반환\n",
        "  GRU_prediction = sc.inverse_transform(GRU_prediction)\n",
        "\n",
        "  return GRU_model, GRU_prediction\n"
      ],
      "metadata": {
        "id": "_C0xChBtHyO4"
      },
      "execution_count": null,
      "outputs": []
    },
    {
      "cell_type": "code",
      "source": [
        "my_GRU_model, GRU_prediction = GRU_model(X_train, y_train, X_test, sc)\n",
        "GRU_prediction[1:10]"
      ],
      "metadata": {
        "colab": {
          "base_uri": "https://localhost:8080/"
        },
        "id": "almTC_VHHyMN",
        "outputId": "c802fe43-b7d1-42af-d12a-0667fe1504db"
      },
      "execution_count": null,
      "outputs": [
        {
          "output_type": "stream",
          "name": "stderr",
          "text": [
            "/usr/local/lib/python3.10/dist-packages/keras/optimizers/legacy/gradient_descent.py:114: UserWarning: The `lr` argument is deprecated, use `learning_rate` instead.\n",
            "  super().__init__(name, **kwargs)\n"
          ]
        },
        {
          "output_type": "stream",
          "name": "stdout",
          "text": [
            "8/8 [==============================] - 1s 6ms/step\n"
          ]
        },
        {
          "output_type": "execute_result",
          "data": {
            "text/plain": [
              "array([[74.98532 , 74.94015 ],\n",
              "       [75.3421  , 75.29207 ],\n",
              "       [76.3816  , 76.33195 ],\n",
              "       [77.96591 , 77.91933 ],\n",
              "       [79.64509 , 79.59931 ],\n",
              "       [80.95473 , 80.906456],\n",
              "       [82.056145, 81.99056 ],\n",
              "       [82.365974, 82.28793 ],\n",
              "       [82.037766, 81.95218 ]], dtype=float32)"
            ]
          },
          "metadata": {},
          "execution_count": 62
        }
      ]
    },
    {
      "cell_type": "code",
      "source": [
        "actual_pred_plot(GRU_prediction)"
      ],
      "metadata": {
        "colab": {
          "base_uri": "https://localhost:8080/",
          "height": 451
        },
        "id": "2TZbyB6uHyJE",
        "outputId": "3a9f6ed2-d930-4b9e-baac-b446a66e4273"
      },
      "execution_count": null,
      "outputs": [
        {
          "output_type": "execute_result",
          "data": {
            "text/plain": [
              "(3.3101907, <Axes: xlabel='Date'>)"
            ]
          },
          "metadata": {},
          "execution_count": 63
        },
        {
          "output_type": "display_data",
          "data": {
            "text/plain": [
              "<Figure size 640x480 with 1 Axes>"
            ],
            "image/png": "[encoded data removed]"
          },
          "metadata": {}
        }
      ]
    },
    {
      "cell_type": "code",
      "source": [
        "y_pred_gru = pd.DataFrame(GRU_prediction[:, 0])\n",
        "y_test_gru = all_data.loc['2019':, 'Adj Close'][0:len(GRU_prediction)]\n",
        "y_test_gru.reset_index(drop=True, inplace=True)"
      ],
      "metadata": {
        "id": "hFk13TEBHyHA"
      },
      "execution_count": null,
      "outputs": []
    },
    {
      "cell_type": "code",
      "source": [
        "confirm_result(y_test_gru, y_pred_gru)"
      ],
      "metadata": {
        "colab": {
          "base_uri": "https://localhost:8080/",
          "height": 175
        },
        "id": "C2k3jcFWHyDu",
        "outputId": "60730222-974c-4f0a-f688-c44ff2efbb3a"
      },
      "execution_count": null,
      "outputs": [
        {
          "output_type": "execute_result",
          "data": {
            "text/plain": [
              "       Results\n",
              "MAE    1.42063\n",
              "RMSE   1.81939\n",
              "RMSLE  0.02032\n",
              "R2     0.87656"
            ],
            "text/html": [
              "\n",
              "  <div id=\"df-28b70a7f-b127-4402-8f5a-0097045b8803\">\n",
              "    <div class=\"colab-df-container\">\n",
              "      <div>\n",
              "<style scoped>\n",
              "    .dataframe tbody tr th:only-of-type {\n",
              "        vertical-align: middle;\n",
              "    }\n",
              "\n",
              "    .dataframe tbody tr th {\n",
              "        vertical-align: top;\n",
              "    }\n",
              "\n",
              "    .dataframe thead th {\n",
              "        text-align: right;\n",
              "    }\n",
              "</style>\n",
              "<table border=\"1\" class=\"dataframe\">\n",
              "  <thead>\n",
              "    <tr style=\"text-align: right;\">\n",
              "      <th></th>\n",
              "      <th>Results</th>\n",
              "    </tr>\n",
              "  </thead>\n",
              "  <tbody>\n",
              "    <tr>\n",
              "      <th>MAE</th>\n",
              "      <td>1.42063</td>\n",
              "    </tr>\n",
              "    <tr>\n",
              "      <th>RMSE</th>\n",
              "      <td>1.81939</td>\n",
              "    </tr>\n",
              "    <tr>\n",
              "      <th>RMSLE</th>\n",
              "      <td>0.02032</td>\n",
              "    </tr>\n",
              "    <tr>\n",
              "      <th>R2</th>\n",
              "      <td>0.87656</td>\n",
              "    </tr>\n",
              "  </tbody>\n",
              "</table>\n",
              "</div>\n",
              "      <button class=\"colab-df-convert\" onclick=\"convertToInteractive('df-28b70a7f-b127-4402-8f5a-0097045b8803')\"\n",
              "              title=\"Convert this dataframe to an interactive table.\"\n",
              "              style=\"display:none;\">\n",
              "        \n",
              "  <svg xmlns=\"http://www.w3.org/2000/svg\" height=\"24px\"viewBox=\"0 0 24 24\"\n",
              "       width=\"24px\">\n",
              "    <path d=\"M0 0h24v24H0V0z\" fill=\"none\"/>\n",
              "    <path d=\"M18.56 5.44l.94 2.06.94-2.06 2.06-.94-2.06-.94-.94-2.06-.94 2.06-2.06.94zm-11 1L8.5 8.5l.94-2.06 2.06-.94-2.06-.94L8.5 2.5l-.94 2.06-2.06.94zm10 10l.94 2.06.94-2.06 2.06-.94-2.06-.94-.94-2.06-.94 2.06-2.06.94z\"/><path d=\"M17.41 7.96l-1.37-1.37c-.4-.4-.92-.59-1.43-.59-.52 0-1.04.2-1.43.59L10.3 9.45l-7.72 7.72c-.78.78-.78 2.05 0 2.83L4 21.41c.39.39.9.59 1.41.59.51 0 1.02-.2 1.41-.59l7.78-7.78 2.81-2.81c.8-.78.8-2.07 0-2.86zM5.41 20L4 18.59l7.72-7.72 1.47 1.35L5.41 20z\"/>\n",
              "  </svg>\n",
              "      </button>\n",
              "      \n",
              "  <style>\n",
              "    .colab-df-container {\n",
              "      display:flex;\n",
              "      flex-wrap:wrap;\n",
              "      gap: 12px;\n",
              "    }\n",
              "\n",
              "    .colab-df-convert {\n",
              "      background-color: #E8F0FE;\n",
              "      border: none;\n",
              "      border-radius: 50%;\n",
              "      cursor: pointer;\n",
              "      display: none;\n",
              "      fill: #1967D2;\n",
              "      height: 32px;\n",
              "      padding: 0 0 0 0;\n",
              "      width: 32px;\n",
              "    }\n",
              "\n",
              "    .colab-df-convert:hover {\n",
              "      background-color: #E2EBFA;\n",
              "      box-shadow: 0px 1px 2px rgba(60, 64, 67, 0.3), 0px 1px 3px 1px rgba(60, 64, 67, 0.15);\n",
              "      fill: #174EA6;\n",
              "    }\n",
              "\n",
              "    [theme=dark] .colab-df-convert {\n",
              "      background-color: #3B4455;\n",
              "      fill: #D2E3FC;\n",
              "    }\n",
              "\n",
              "    [theme=dark] .colab-df-convert:hover {\n",
              "      background-color: #434B5C;\n",
              "      box-shadow: 0px 1px 3px 1px rgba(0, 0, 0, 0.15);\n",
              "      filter: drop-shadow(0px 1px 2px rgba(0, 0, 0, 0.3));\n",
              "      fill: #FFFFFF;\n",
              "    }\n",
              "  </style>\n",
              "\n",
              "      <script>\n",
              "        const buttonEl =\n",
              "          document.querySelector('#df-28b70a7f-b127-4402-8f5a-0097045b8803 button.colab-df-convert');\n",
              "        buttonEl.style.display =\n",
              "          google.colab.kernel.accessAllowed ? 'block' : 'none';\n",
              "\n",
              "        async function convertToInteractive(key) {\n",
              "          const element = document.querySelector('#df-28b70a7f-b127-4402-8f5a-0097045b8803');\n",
              "          const dataTable =\n",
              "            await google.colab.kernel.invokeFunction('convertToInteractive',\n",
              "                                                     [key], {});\n",
              "          if (!dataTable) return;\n",
              "\n",
              "          const docLinkHtml = 'Like what you see? Visit the ' +\n",
              "            '<a target=\"_blank\" href=https://colab.research.google.com/notebooks/data_table.ipynb>data table notebook</a>'\n",
              "            + ' to learn more about interactive tables.';\n",
              "          element.innerHTML = '';\n",
              "          dataTable['output_type'] = 'display_data';\n",
              "          await google.colab.output.renderOutput(dataTable, element);\n",
              "          const docLink = document.createElement('div');\n",
              "          docLink.innerHTML = docLinkHtml;\n",
              "          element.appendChild(docLink);\n",
              "        }\n",
              "      </script>\n",
              "    </div>\n",
              "  </div>\n",
              "  "
            ]
          },
          "metadata": {},
          "execution_count": 65
        }
      ]
    },
    {
      "cell_type": "code",
      "source": [
        "confirm_result(y_test, y_pred)"
      ],
      "metadata": {
        "colab": {
          "base_uri": "https://localhost:8080/",
          "height": 175
        },
        "id": "HVgFiLhq82z-",
        "outputId": "83c70f1e-9b79-41f6-d5c6-7520850cb9fa"
      },
      "execution_count": null,
      "outputs": [
        {
          "output_type": "execute_result",
          "data": {
            "text/plain": [
              "       Results\n",
              "MAE    2.13292\n",
              "RMSE   2.61573\n",
              "RMSLE  0.02880\n",
              "R2     0.74485"
            ],
            "text/html": [
              "\n",
              "  <div id=\"df-2b856d5e-09b3-44c0-b98c-a6f0c57a5d8f\">\n",
              "    <div class=\"colab-df-container\">\n",
              "      <div>\n",
              "<style scoped>\n",
              "    .dataframe tbody tr th:only-of-type {\n",
              "        vertical-align: middle;\n",
              "    }\n",
              "\n",
              "    .dataframe tbody tr th {\n",
              "        vertical-align: top;\n",
              "    }\n",
              "\n",
              "    .dataframe thead th {\n",
              "        text-align: right;\n",
              "    }\n",
              "</style>\n",
              "<table border=\"1\" class=\"dataframe\">\n",
              "  <thead>\n",
              "    <tr style=\"text-align: right;\">\n",
              "      <th></th>\n",
              "      <th>Results</th>\n",
              "    </tr>\n",
              "  </thead>\n",
              "  <tbody>\n",
              "    <tr>\n",
              "      <th>MAE</th>\n",
              "      <td>2.13292</td>\n",
              "    </tr>\n",
              "    <tr>\n",
              "      <th>RMSE</th>\n",
              "      <td>2.61573</td>\n",
              "    </tr>\n",
              "    <tr>\n",
              "      <th>RMSLE</th>\n",
              "      <td>0.02880</td>\n",
              "    </tr>\n",
              "    <tr>\n",
              "      <th>R2</th>\n",
              "      <td>0.74485</td>\n",
              "    </tr>\n",
              "  </tbody>\n",
              "</table>\n",
              "</div>\n",
              "      <button class=\"colab-df-convert\" onclick=\"convertToInteractive('df-2b856d5e-09b3-44c0-b98c-a6f0c57a5d8f')\"\n",
              "              title=\"Convert this dataframe to an interactive table.\"\n",
              "              style=\"display:none;\">\n",
              "        \n",
              "  <svg xmlns=\"http://www.w3.org/2000/svg\" height=\"24px\"viewBox=\"0 0 24 24\"\n",
              "       width=\"24px\">\n",
              "    <path d=\"M0 0h24v24H0V0z\" fill=\"none\"/>\n",
              "    <path d=\"M18.56 5.44l.94 2.06.94-2.06 2.06-.94-2.06-.94-.94-2.06-.94 2.06-2.06.94zm-11 1L8.5 8.5l.94-2.06 2.06-.94-2.06-.94L8.5 2.5l-.94 2.06-2.06.94zm10 10l.94 2.06.94-2.06 2.06-.94-2.06-.94-.94-2.06-.94 2.06-2.06.94z\"/><path d=\"M17.41 7.96l-1.37-1.37c-.4-.4-.92-.59-1.43-.59-.52 0-1.04.2-1.43.59L10.3 9.45l-7.72 7.72c-.78.78-.78 2.05 0 2.83L4 21.41c.39.39.9.59 1.41.59.51 0 1.02-.2 1.41-.59l7.78-7.78 2.81-2.81c.8-.78.8-2.07 0-2.86zM5.41 20L4 18.59l7.72-7.72 1.47 1.35L5.41 20z\"/>\n",
              "  </svg>\n",
              "      </button>\n",
              "      \n",
              "  <style>\n",
              "    .colab-df-container {\n",
              "      display:flex;\n",
              "      flex-wrap:wrap;\n",
              "      gap: 12px;\n",
              "    }\n",
              "\n",
              "    .colab-df-convert {\n",
              "      background-color: #E8F0FE;\n",
              "      border: none;\n",
              "      border-radius: 50%;\n",
              "      cursor: pointer;\n",
              "      display: none;\n",
              "      fill: #1967D2;\n",
              "      height: 32px;\n",
              "      padding: 0 0 0 0;\n",
              "      width: 32px;\n",
              "    }\n",
              "\n",
              "    .colab-df-convert:hover {\n",
              "      background-color: #E2EBFA;\n",
              "      box-shadow: 0px 1px 2px rgba(60, 64, 67, 0.3), 0px 1px 3px 1px rgba(60, 64, 67, 0.15);\n",
              "      fill: #174EA6;\n",
              "    }\n",
              "\n",
              "    [theme=dark] .colab-df-convert {\n",
              "      background-color: #3B4455;\n",
              "      fill: #D2E3FC;\n",
              "    }\n",
              "\n",
              "    [theme=dark] .colab-df-convert:hover {\n",
              "      background-color: #434B5C;\n",
              "      box-shadow: 0px 1px 3px 1px rgba(0, 0, 0, 0.15);\n",
              "      filter: drop-shadow(0px 1px 2px rgba(0, 0, 0, 0.3));\n",
              "      fill: #FFFFFF;\n",
              "    }\n",
              "  </style>\n",
              "\n",
              "      <script>\n",
              "        const buttonEl =\n",
              "          document.querySelector('#df-2b856d5e-09b3-44c0-b98c-a6f0c57a5d8f button.colab-df-convert');\n",
              "        buttonEl.style.display =\n",
              "          google.colab.kernel.accessAllowed ? 'block' : 'none';\n",
              "\n",
              "        async function convertToInteractive(key) {\n",
              "          const element = document.querySelector('#df-2b856d5e-09b3-44c0-b98c-a6f0c57a5d8f');\n",
              "          const dataTable =\n",
              "            await google.colab.kernel.invokeFunction('convertToInteractive',\n",
              "                                                     [key], {});\n",
              "          if (!dataTable) return;\n",
              "\n",
              "          const docLinkHtml = 'Like what you see? Visit the ' +\n",
              "            '<a target=\"_blank\" href=https://colab.research.google.com/notebooks/data_table.ipynb>data table notebook</a>'\n",
              "            + ' to learn more about interactive tables.';\n",
              "          element.innerHTML = '';\n",
              "          dataTable['output_type'] = 'display_data';\n",
              "          await google.colab.output.renderOutput(dataTable, element);\n",
              "          const docLink = document.createElement('div');\n",
              "          docLink.innerHTML = docLinkHtml;\n",
              "          element.appendChild(docLink);\n",
              "        }\n",
              "      </script>\n",
              "    </div>\n",
              "  </div>\n",
              "  "
            ]
          },
          "metadata": {},
          "execution_count": 66
        }
      ]
    }
  ]
}