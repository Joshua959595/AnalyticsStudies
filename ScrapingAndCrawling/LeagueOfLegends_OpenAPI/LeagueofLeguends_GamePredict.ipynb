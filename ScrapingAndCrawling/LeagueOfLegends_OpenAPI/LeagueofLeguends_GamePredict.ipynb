{
  "nbformat": 4,
  "nbformat_minor": 0,
  "metadata": {
    "colab": {
      "provenance": []
    },
    "kernelspec": {
      "name": "python3",
      "display_name": "Python 3"
    },
    "language_info": {
      "name": "python"
    }
  },
  "cells": [
    {
      "cell_type": "markdown",
      "source": [
        "1. 데이터 수집"
      ],
      "metadata": {
        "id": "lBZRK1MhLV1w"
      }
    },
    {
      "cell_type": "code",
      "source": [
        "import pandas as pd\n",
        "from datetime import datetime\n",
        "import os, os.path, json, requests\n",
        "import time "
      ],
      "metadata": {
        "id": "NxbFNmw3LYKb"
      },
      "execution_count": null,
      "outputs": []
    },
    {
      "cell_type": "code",
      "source": [
        "api_key = 'RGAPI-2a2b64dd-3238-41e9-813e-2dc22de5f8d8'\n",
        "target_player = \"https://kr.api.riotgames.com/lol/summoner/v4/summoners/by-name/\" +'변신하다' +'?api_key=' + api_key\n",
        "r = requests.get(target_player)\n",
        "r.json()"
      ],
      "metadata": {
        "id": "OZ6OwGbZLfgH"
      },
      "execution_count": null,
      "outputs": []
    },
    {
      "cell_type": "code",
      "source": [
        "tier_url = \"https://kr.api.riotgames.com/lol/league/v4/entries/by-summoner/\" + r.json()['id'] +'?api_key=' + api_key\n",
        "r2  = requests.get(tier_url)\n",
        "r2.json()"
      ],
      "metadata": {
        "id": "f8jxeJROLYHg"
      },
      "execution_count": null,
      "outputs": []
    },
    {
      "cell_type": "code",
      "source": [
        "master = 'https://kr.api.riotgames.com/lol/league/v4/masterleagues/by-queue/RANKED_SOLO_5x5?api_key=' + api_key\n",
        "r = requests.get(master)         # 마스터 데이터 호출\n",
        "league_df = pd.DataFrame(r.json())\n",
        "\n",
        "league_df.reset_index(inplace=True)   #수집한 마스터 데이터 index정리\n",
        "league_entries_df = pd.DataFrame(dict(league_df['entries'])).T #d ict구조로 되어 있는 entries컬럼 풀어주기\n",
        "league_df = pd.concat([league_df, league_entries_df], axis=1) # 열끼리 결합\n",
        "\n",
        "league_df = league_df.drop(['index', 'queue', 'name', 'leagueId', 'entries', 'rank'], axis=1)\n",
        "league_df.info()\n",
        "league_df.to_csv('마스터데이터.csv',index=False,encoding = 'cp949')# 중간저장"
      ],
      "metadata": {
        "colab": {
          "base_uri": "https://localhost:8080/"
        },
        "id": "qrGAC2JhLXvU",
        "outputId": "4088fff0-507b-4961-8164-5a83b959b674"
      },
      "execution_count": null,
      "outputs": [
        {
          "output_type": "stream",
          "name": "stdout",
          "text": [
            "<class 'pandas.core.frame.DataFrame'>\n",
            "RangeIndex: 9588 entries, 0 to 9587\n",
            "Data columns (total 10 columns):\n",
            " #   Column        Non-Null Count  Dtype \n",
            "---  ------        --------------  ----- \n",
            " 0   tier          9588 non-null   object\n",
            " 1   summonerId    9588 non-null   object\n",
            " 2   summonerName  9588 non-null   object\n",
            " 3   leaguePoints  9588 non-null   object\n",
            " 4   wins          9588 non-null   object\n",
            " 5   losses        9588 non-null   object\n",
            " 6   veteran       9588 non-null   object\n",
            " 7   inactive      9588 non-null   object\n",
            " 8   freshBlood    9588 non-null   object\n",
            " 9   hotStreak     9588 non-null   object\n",
            "dtypes: object(10)\n",
            "memory usage: 749.2+ KB\n"
          ]
        }
      ]
    },
    {
      "cell_type": "code",
      "source": [
        "league_df"
      ],
      "metadata": {
        "colab": {
          "base_uri": "https://localhost:8080/",
          "height": 468
        },
        "id": "nXH2LUFYeguO",
        "outputId": "304a5215-b5b9-4117-b17a-f5b7e93139bd"
      },
      "execution_count": null,
      "outputs": [
        {
          "output_type": "execute_result",
          "data": {
            "text/plain": [
              "        tier                                         summonerId  \\\n",
              "0     MASTER    A840AmL2CvaoeK1QDidJKrJmQpwyAvCwrADcCZpn7vh-3Sc   \n",
              "1     MASTER    DpWV-9QWZEIkgfwVVhy941NbLmAreOy8FKmxpvpeMovtZsg   \n",
              "2     MASTER    zwQF4aZgJrEbp9VT6zRbhz_GWXKtN-GSuSpmdEwRl3Bpxqs   \n",
              "3     MASTER     Jm_qvfK0Sp86EcKfJuKRmi6JMdcaKu5p8DxVGQVCYs7Dfg   \n",
              "4     MASTER    y5GakRxvDrE8QGEReuptW37sutHEokV9Zgahsc786m4ZDzI   \n",
              "...      ...                                                ...   \n",
              "9583  MASTER  9g30pzoM4gzx5-ER1b7m2xBeICgEt3SWwBUE2wjx7YMIT_...   \n",
              "9584  MASTER  -pH07bOit75nQTMDZA78i_F_oNTi-SXRpJ8kPYsLINMkMM...   \n",
              "9585  MASTER     T7jpwavqjp67QjEXDgYufBsN7cRj_FqJ7vdmnGWQX5UADA   \n",
              "9586  MASTER     ooqAw3l0xOrKis6px-SvdFlDSYIRbKAJVyRBwGKleIS9gw   \n",
              "9587  MASTER    kZDC5BXuXLL7765wHSvASk8lZupSi_FqrZJhpBtaMEwOwcQ   \n",
              "\n",
              "          summonerName leaguePoints wins losses veteran inactive freshBlood  \\\n",
              "0              qewrttt          156  154    120   False    False      False   \n",
              "1                  오 뉴          106  139    123   False    False      False   \n",
              "2     go ward me carry          110  129    115   False    False       True   \n",
              "3                  럼 카           56   75     58   False    False      False   \n",
              "4        aband0ned dog          121   64     53   False    False      False   \n",
              "...                ...          ...  ...    ...     ...      ...        ...   \n",
              "9583          사람답게는 하자           22  212    204   False    False       True   \n",
              "9584           싫어 니가 와          227  198    194   False    False      False   \n",
              "9585               땡국2            1  192    183   False    False       True   \n",
              "9586             앙 김우기           98  331    303    True    False      False   \n",
              "9587              동부전선          117   48     37   False    False      False   \n",
              "\n",
              "     hotStreak  \n",
              "0         True  \n",
              "1         True  \n",
              "2        False  \n",
              "3        False  \n",
              "4        False  \n",
              "...        ...  \n",
              "9583     False  \n",
              "9584      True  \n",
              "9585     False  \n",
              "9586     False  \n",
              "9587     False  \n",
              "\n",
              "[9588 rows x 10 columns]"
            ],
            "text/html": [
              "\n",
              "  <div id=\"df-392b7efa-a4a7-40dc-8952-b3f238a04cf9\">\n",
              "    <div class=\"colab-df-container\">\n",
              "      <div>\n",
              "<style scoped>\n",
              "    .dataframe tbody tr th:only-of-type {\n",
              "        vertical-align: middle;\n",
              "    }\n",
              "\n",
              "    .dataframe tbody tr th {\n",
              "        vertical-align: top;\n",
              "    }\n",
              "\n",
              "    .dataframe thead th {\n",
              "        text-align: right;\n",
              "    }\n",
              "</style>\n",
              "<table border=\"1\" class=\"dataframe\">\n",
              "  <thead>\n",
              "    <tr style=\"text-align: right;\">\n",
              "      <th></th>\n",
              "      <th>tier</th>\n",
              "      <th>summonerId</th>\n",
              "      <th>summonerName</th>\n",
              "      <th>leaguePoints</th>\n",
              "      <th>wins</th>\n",
              "      <th>losses</th>\n",
              "      <th>veteran</th>\n",
              "      <th>inactive</th>\n",
              "      <th>freshBlood</th>\n",
              "      <th>hotStreak</th>\n",
              "    </tr>\n",
              "  </thead>\n",
              "  <tbody>\n",
              "    <tr>\n",
              "      <th>0</th>\n",
              "      <td>MASTER</td>\n",
              "      <td>A840AmL2CvaoeK1QDidJKrJmQpwyAvCwrADcCZpn7vh-3Sc</td>\n",
              "      <td>qewrttt</td>\n",
              "      <td>156</td>\n",
              "      <td>154</td>\n",
              "      <td>120</td>\n",
              "      <td>False</td>\n",
              "      <td>False</td>\n",
              "      <td>False</td>\n",
              "      <td>True</td>\n",
              "    </tr>\n",
              "    <tr>\n",
              "      <th>1</th>\n",
              "      <td>MASTER</td>\n",
              "      <td>DpWV-9QWZEIkgfwVVhy941NbLmAreOy8FKmxpvpeMovtZsg</td>\n",
              "      <td>오 뉴</td>\n",
              "      <td>106</td>\n",
              "      <td>139</td>\n",
              "      <td>123</td>\n",
              "      <td>False</td>\n",
              "      <td>False</td>\n",
              "      <td>False</td>\n",
              "      <td>True</td>\n",
              "    </tr>\n",
              "    <tr>\n",
              "      <th>2</th>\n",
              "      <td>MASTER</td>\n",
              "      <td>zwQF4aZgJrEbp9VT6zRbhz_GWXKtN-GSuSpmdEwRl3Bpxqs</td>\n",
              "      <td>go ward me carry</td>\n",
              "      <td>110</td>\n",
              "      <td>129</td>\n",
              "      <td>115</td>\n",
              "      <td>False</td>\n",
              "      <td>False</td>\n",
              "      <td>True</td>\n",
              "      <td>False</td>\n",
              "    </tr>\n",
              "    <tr>\n",
              "      <th>3</th>\n",
              "      <td>MASTER</td>\n",
              "      <td>Jm_qvfK0Sp86EcKfJuKRmi6JMdcaKu5p8DxVGQVCYs7Dfg</td>\n",
              "      <td>럼 카</td>\n",
              "      <td>56</td>\n",
              "      <td>75</td>\n",
              "      <td>58</td>\n",
              "      <td>False</td>\n",
              "      <td>False</td>\n",
              "      <td>False</td>\n",
              "      <td>False</td>\n",
              "    </tr>\n",
              "    <tr>\n",
              "      <th>4</th>\n",
              "      <td>MASTER</td>\n",
              "      <td>y5GakRxvDrE8QGEReuptW37sutHEokV9Zgahsc786m4ZDzI</td>\n",
              "      <td>aband0ned dog</td>\n",
              "      <td>121</td>\n",
              "      <td>64</td>\n",
              "      <td>53</td>\n",
              "      <td>False</td>\n",
              "      <td>False</td>\n",
              "      <td>False</td>\n",
              "      <td>False</td>\n",
              "    </tr>\n",
              "    <tr>\n",
              "      <th>...</th>\n",
              "      <td>...</td>\n",
              "      <td>...</td>\n",
              "      <td>...</td>\n",
              "      <td>...</td>\n",
              "      <td>...</td>\n",
              "      <td>...</td>\n",
              "      <td>...</td>\n",
              "      <td>...</td>\n",
              "      <td>...</td>\n",
              "      <td>...</td>\n",
              "    </tr>\n",
              "    <tr>\n",
              "      <th>9583</th>\n",
              "      <td>MASTER</td>\n",
              "      <td>9g30pzoM4gzx5-ER1b7m2xBeICgEt3SWwBUE2wjx7YMIT_...</td>\n",
              "      <td>사람답게는 하자</td>\n",
              "      <td>22</td>\n",
              "      <td>212</td>\n",
              "      <td>204</td>\n",
              "      <td>False</td>\n",
              "      <td>False</td>\n",
              "      <td>True</td>\n",
              "      <td>False</td>\n",
              "    </tr>\n",
              "    <tr>\n",
              "      <th>9584</th>\n",
              "      <td>MASTER</td>\n",
              "      <td>-pH07bOit75nQTMDZA78i_F_oNTi-SXRpJ8kPYsLINMkMM...</td>\n",
              "      <td>싫어 니가 와</td>\n",
              "      <td>227</td>\n",
              "      <td>198</td>\n",
              "      <td>194</td>\n",
              "      <td>False</td>\n",
              "      <td>False</td>\n",
              "      <td>False</td>\n",
              "      <td>True</td>\n",
              "    </tr>\n",
              "    <tr>\n",
              "      <th>9585</th>\n",
              "      <td>MASTER</td>\n",
              "      <td>T7jpwavqjp67QjEXDgYufBsN7cRj_FqJ7vdmnGWQX5UADA</td>\n",
              "      <td>땡국2</td>\n",
              "      <td>1</td>\n",
              "      <td>192</td>\n",
              "      <td>183</td>\n",
              "      <td>False</td>\n",
              "      <td>False</td>\n",
              "      <td>True</td>\n",
              "      <td>False</td>\n",
              "    </tr>\n",
              "    <tr>\n",
              "      <th>9586</th>\n",
              "      <td>MASTER</td>\n",
              "      <td>ooqAw3l0xOrKis6px-SvdFlDSYIRbKAJVyRBwGKleIS9gw</td>\n",
              "      <td>앙 김우기</td>\n",
              "      <td>98</td>\n",
              "      <td>331</td>\n",
              "      <td>303</td>\n",
              "      <td>True</td>\n",
              "      <td>False</td>\n",
              "      <td>False</td>\n",
              "      <td>False</td>\n",
              "    </tr>\n",
              "    <tr>\n",
              "      <th>9587</th>\n",
              "      <td>MASTER</td>\n",
              "      <td>kZDC5BXuXLL7765wHSvASk8lZupSi_FqrZJhpBtaMEwOwcQ</td>\n",
              "      <td>동부전선</td>\n",
              "      <td>117</td>\n",
              "      <td>48</td>\n",
              "      <td>37</td>\n",
              "      <td>False</td>\n",
              "      <td>False</td>\n",
              "      <td>False</td>\n",
              "      <td>False</td>\n",
              "    </tr>\n",
              "  </tbody>\n",
              "</table>\n",
              "<p>9588 rows × 10 columns</p>\n",
              "</div>\n",
              "      <button class=\"colab-df-convert\" onclick=\"convertToInteractive('df-392b7efa-a4a7-40dc-8952-b3f238a04cf9')\"\n",
              "              title=\"Convert this dataframe to an interactive table.\"\n",
              "              style=\"display:none;\">\n",
              "        \n",
              "  <svg xmlns=\"http://www.w3.org/2000/svg\" height=\"24px\"viewBox=\"0 0 24 24\"\n",
              "       width=\"24px\">\n",
              "    <path d=\"M0 0h24v24H0V0z\" fill=\"none\"/>\n",
              "    <path d=\"M18.56 5.44l.94 2.06.94-2.06 2.06-.94-2.06-.94-.94-2.06-.94 2.06-2.06.94zm-11 1L8.5 8.5l.94-2.06 2.06-.94-2.06-.94L8.5 2.5l-.94 2.06-2.06.94zm10 10l.94 2.06.94-2.06 2.06-.94-2.06-.94-.94-2.06-.94 2.06-2.06.94z\"/><path d=\"M17.41 7.96l-1.37-1.37c-.4-.4-.92-.59-1.43-.59-.52 0-1.04.2-1.43.59L10.3 9.45l-7.72 7.72c-.78.78-.78 2.05 0 2.83L4 21.41c.39.39.9.59 1.41.59.51 0 1.02-.2 1.41-.59l7.78-7.78 2.81-2.81c.8-.78.8-2.07 0-2.86zM5.41 20L4 18.59l7.72-7.72 1.47 1.35L5.41 20z\"/>\n",
              "  </svg>\n",
              "      </button>\n",
              "      \n",
              "  <style>\n",
              "    .colab-df-container {\n",
              "      display:flex;\n",
              "      flex-wrap:wrap;\n",
              "      gap: 12px;\n",
              "    }\n",
              "\n",
              "    .colab-df-convert {\n",
              "      background-color: #E8F0FE;\n",
              "      border: none;\n",
              "      border-radius: 50%;\n",
              "      cursor: pointer;\n",
              "      display: none;\n",
              "      fill: #1967D2;\n",
              "      height: 32px;\n",
              "      padding: 0 0 0 0;\n",
              "      width: 32px;\n",
              "    }\n",
              "\n",
              "    .colab-df-convert:hover {\n",
              "      background-color: #E2EBFA;\n",
              "      box-shadow: 0px 1px 2px rgba(60, 64, 67, 0.3), 0px 1px 3px 1px rgba(60, 64, 67, 0.15);\n",
              "      fill: #174EA6;\n",
              "    }\n",
              "\n",
              "    [theme=dark] .colab-df-convert {\n",
              "      background-color: #3B4455;\n",
              "      fill: #D2E3FC;\n",
              "    }\n",
              "\n",
              "    [theme=dark] .colab-df-convert:hover {\n",
              "      background-color: #434B5C;\n",
              "      box-shadow: 0px 1px 3px 1px rgba(0, 0, 0, 0.15);\n",
              "      filter: drop-shadow(0px 1px 2px rgba(0, 0, 0, 0.3));\n",
              "      fill: #FFFFFF;\n",
              "    }\n",
              "  </style>\n",
              "\n",
              "      <script>\n",
              "        const buttonEl =\n",
              "          document.querySelector('#df-392b7efa-a4a7-40dc-8952-b3f238a04cf9 button.colab-df-convert');\n",
              "        buttonEl.style.display =\n",
              "          google.colab.kernel.accessAllowed ? 'block' : 'none';\n",
              "\n",
              "        async function convertToInteractive(key) {\n",
              "          const element = document.querySelector('#df-392b7efa-a4a7-40dc-8952-b3f238a04cf9');\n",
              "          const dataTable =\n",
              "            await google.colab.kernel.invokeFunction('convertToInteractive',\n",
              "                                                     [key], {});\n",
              "          if (!dataTable) return;\n",
              "\n",
              "          const docLinkHtml = 'Like what you see? Visit the ' +\n",
              "            '<a target=\"_blank\" href=https://colab.research.google.com/notebooks/data_table.ipynb>data table notebook</a>'\n",
              "            + ' to learn more about interactive tables.';\n",
              "          element.innerHTML = '';\n",
              "          dataTable['output_type'] = 'display_data';\n",
              "          await google.colab.output.renderOutput(dataTable, element);\n",
              "          const docLink = document.createElement('div');\n",
              "          docLink.innerHTML = docLinkHtml;\n",
              "          element.appendChild(docLink);\n",
              "        }\n",
              "      </script>\n",
              "    </div>\n",
              "  </div>\n",
              "  "
            ]
          },
          "metadata": {},
          "execution_count": 70
        }
      ]
    },
    {
      "cell_type": "code",
      "source": [
        "for i in range(len(league_df)):\n",
        "    try:\n",
        "        target = 'https://kr.api.riotgames.com/lol/summoner/v4/summoners/by-name/' + league_df['summonerName'].iloc[i] + '?api_key=' + api_key \n",
        "        r = requests.get(target)\n",
        "        \n",
        "        while r.status_code == 429:\n",
        "            time.sleep(5)\n",
        "            target = 'https://kr.api.riotgames.com/lol/summoner/v4/summoners/by-name/' + league_df['summonerName'].iloc[i] + '?api_key=' + api_key \n",
        "            r = requests.get(target)\n",
        "            \n",
        "        account_id = r.json()['accountId']\n",
        "        league_df.iloc[i, -1] = account_id\n",
        "    \n",
        "    except:\n",
        "        pass"
      ],
      "metadata": {
        "id": "r-G3bCmjNGSx"
      },
      "execution_count": null,
      "outputs": []
    },
    {
      "cell_type": "code",
      "source": [
        "len(league_df)"
      ],
      "metadata": {
        "colab": {
          "base_uri": "https://localhost:8080/"
        },
        "id": "pxCQWmzLcRGb",
        "outputId": "55fade93-0991-4c0d-ddac-6365f302dcad"
      },
      "execution_count": null,
      "outputs": [
        {
          "output_type": "execute_result",
          "data": {
            "text/plain": [
              "9584"
            ]
          },
          "metadata": {},
          "execution_count": 67
        }
      ]
    },
    {
      "cell_type": "code",
      "source": [],
      "metadata": {
        "id": "fIMnMJavcRD8"
      },
      "execution_count": null,
      "outputs": []
    },
    {
      "cell_type": "code",
      "source": [],
      "metadata": {
        "id": "pcXY4yDScRA6"
      },
      "execution_count": null,
      "outputs": []
    },
    {
      "cell_type": "markdown",
      "source": [
        "2. 데이터 전처리"
      ],
      "metadata": {
        "id": "FtqYBdRTNPn3"
      }
    },
    {
      "cell_type": "code",
      "source": [],
      "metadata": {
        "id": "ZpNTJP0DNRtq"
      },
      "execution_count": null,
      "outputs": []
    },
    {
      "cell_type": "code",
      "source": [],
      "metadata": {
        "id": "N2PRL_OONRra"
      },
      "execution_count": null,
      "outputs": []
    },
    {
      "cell_type": "code",
      "source": [],
      "metadata": {
        "id": "mICJMt3bNGPa"
      },
      "execution_count": null,
      "outputs": []
    }
  ]
}