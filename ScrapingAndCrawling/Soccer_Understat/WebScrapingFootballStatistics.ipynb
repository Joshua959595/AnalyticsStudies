{
  "nbformat": 4,
  "nbformat_minor": 0,
  "metadata": {
    "colab": {
      "provenance": []
    },
    "kernelspec": {
      "name": "python3",
      "display_name": "Python 3"
    },
    "language_info": {
      "name": "python"
    }
  },
  "cells": [
    {
      "cell_type": "markdown",
      "source": [
        "1. 기초준비 및 웹페이지 구성파악"
      ],
      "metadata": {
        "id": "MtHPMuVUCNVh"
      }
    },
    {
      "cell_type": "code",
      "execution_count": null,
      "metadata": {
        "id": "onYhummy48uR"
      },
      "outputs": [],
      "source": [
        "import numpy as np\n",
        "import pandas as pd\n",
        "import requests\n",
        "from bs4 import BeautifulSoup as bs\n"
      ]
    },
    {
      "cell_type": "code",
      "source": [
        "base_url = 'https://understat.com/league'\n",
        "leagues = ['La_liga', 'EPL', 'Bundesliga', 'Serie_A', 'Ligue_1', 'RFPL']\n",
        "seasons = []\n",
        "for i in range(8):\n",
        "  c = 2015 + i\n",
        "  seasons.append(str(c))"
      ],
      "metadata": {
        "id": "2bf8-xUH88UI"
      },
      "execution_count": null,
      "outputs": []
    },
    {
      "cell_type": "code",
      "source": [
        "url = base_url+'/'+leagues[0]+'/'+seasons[0]\n",
        "res = requests.get(url)\n",
        "soup = bs(res.content, 'lxml')\n",
        "\n",
        "scripts = soup.find_all('script')"
      ],
      "metadata": {
        "id": "OG_qwRt--Wkc"
      },
      "execution_count": null,
      "outputs": []
    },
    {
      "cell_type": "markdown",
      "source": [
        "2. JSON 핸들링"
      ],
      "metadata": {
        "id": "Dc1cnAP5CKM3"
      }
    },
    {
      "cell_type": "code",
      "source": [
        "import json"
      ],
      "metadata": {
        "id": "qZfBgNTJ-Wfg"
      },
      "execution_count": null,
      "outputs": []
    },
    {
      "cell_type": "code",
      "source": [
        "starting_with_json_obj = ''\n",
        "\n",
        "for el in scripts:\n",
        "  if 'teamsData' in str(el):\n",
        "    string_with_json_obj = str(el).strip()\n",
        "\n",
        "#print(string_with_json_obj)\n",
        "\n",
        "ind_start = string_with_json_obj.index(\"('\")+2        # (' 이후의 내용이 필요\n",
        "ind_end = string_with_json_obj.index(\")\")             # ) 전 까지의 내용이 필요\n",
        "json_data = string_with_json_obj[ind_start:ind_end]"
      ],
      "metadata": {
        "id": "hXJJzYxnAgSJ"
      },
      "execution_count": null,
      "outputs": []
    },
    {
      "cell_type": "code",
      "source": [
        "json_data = json_data.encode('utf8').decode('unicode_escape')"
      ],
      "metadata": {
        "id": "TDD-vlRKY38-"
      },
      "execution_count": null,
      "outputs": []
    },
    {
      "cell_type": "markdown",
      "source": [
        "3. 파이썬에서 데이터 확인"
      ],
      "metadata": {
        "id": "rruSLuAVCV48"
      }
    },
    {
      "cell_type": "markdown",
      "source": [
        "오류발생) repr(json_data)로 확인 결과, json_data 마지막에 \\' 때문에 json.loads 불가"
      ],
      "metadata": {
        "id": "rrIifd12cDRp"
      }
    },
    {
      "cell_type": "code",
      "source": [
        "#print(json_data)\n",
        "print(repr(json_data))"
      ],
      "metadata": {
        "id": "4vAkcu1uAgM-"
      },
      "execution_count": null,
      "outputs": []
    },
    {
      "cell_type": "code",
      "source": [
        "#json_data = json_data.replace(\"\\'\", '')\n",
        "#print(repr(json_data))\n",
        "data = json.loads(json_data)"
      ],
      "metadata": {
        "id": "zhYl2TAXPlvW"
      },
      "execution_count": null,
      "outputs": []
    },
    {
      "cell_type": "code",
      "source": [
        "print(data.keys())  # 137~156\n",
        "print('='*150)\n",
        "print(data['137'].keys())\n",
        "print('='*150)\n",
        "print(data['137']['id'])\n",
        "print('='*150)\n",
        "print(data['137']['title'])\n",
        "print('='*150)\n",
        "print(data['137']['history'][0])"
      ],
      "metadata": {
        "id": "HBk1NtbtcS1w"
      },
      "execution_count": null,
      "outputs": []
    },
    {
      "cell_type": "code",
      "source": [
        "teams = {}\n",
        "for id in data.keys():\n",
        "  teams[id] = data[id]['title']\n",
        "teams"
      ],
      "metadata": {
        "id": "_URcfgK3cSy3"
      },
      "execution_count": null,
      "outputs": []
    },
    {
      "cell_type": "code",
      "source": [
        "columns = []\n",
        "values = []\n",
        "for id in data.keys():\n",
        "  columns = list(data[id]['history'][0].keys())\n",
        "  values = list(data[id]['history'][0].values())\n",
        "  break\n",
        "\n",
        "print(columns)\n",
        "print(values)"
      ],
      "metadata": {
        "id": "wyHVh0iEcSwL"
      },
      "execution_count": null,
      "outputs": []
    },
    {
      "cell_type": "code",
      "source": [
        "sevilla_data = []\n",
        "for row in data['138']['history']:\n",
        "  sevilla_data.append(list(row.values()))\n",
        "\n",
        "df = pd.DataFrame(sevilla_data, columns=columns)\n",
        "df.head()"
      ],
      "metadata": {
        "id": "KoDyyKeg-WaA"
      },
      "execution_count": null,
      "outputs": []
    },
    {
      "cell_type": "markdown",
      "source": [
        "3. All Teams 데이터"
      ],
      "metadata": {
        "id": "eHnSc_6iepe0"
      }
    },
    {
      "cell_type": "code",
      "source": [
        "dataframes = {}\n",
        "for id, team in teams.items():\n",
        "  teams_data = []\n",
        "  for row in data[id]['history']:\n",
        "    teams_data.append(list(row.values()))\n",
        "\n",
        "  df = pd.DataFrame(teams_data, columns = columns)\n",
        "  dataframes[team] = df\n",
        "  print('Added Data for {}.'.format(team))"
      ],
      "metadata": {
        "id": "hFurp6-FeLaq"
      },
      "execution_count": null,
      "outputs": []
    },
    {
      "cell_type": "code",
      "source": [
        "dataframes['Barcelona'].head()"
      ],
      "metadata": {
        "id": "IsBfL89ueLYE"
      },
      "execution_count": null,
      "outputs": []
    },
    {
      "cell_type": "markdown",
      "source": [
        "5. All 시즌 All 팀 All 데이터 스크래핑"
      ],
      "metadata": {
        "id": "nsZQxDe2fLen"
      }
    },
    {
      "cell_type": "code",
      "source": [
        "full_data = dict()\n",
        "for league in leagues:\n",
        "  season_data = dict()\n",
        "\n",
        "  for season in seasons:\n",
        "    url = base_url+'/'+league+'/'+season\n",
        "    res = requests.get(url)\n",
        "    soup = bs(res.content, 'lxml')\n",
        "\n",
        "    scripts = soup.find_all('script')\n",
        "    string_with_json_obj = ''\n",
        "\n",
        "    for el in scripts:\n",
        "      if 'teamsData' in el.text:\n",
        "        string_with_json_obj = el.text.strip()\n",
        "    \n",
        "    ind_start = string_with_json_obj.index(\"('\")+2\n",
        "    ind_end = string_with_json_obj.index(\"')\")\n",
        "    json_data = string_with_json_obj[ind_start:ind_end]\n",
        "    json_data = json_data.encode('utf8').decode('unicode_escape')\n",
        "\n",
        "    data = json.loads(json_data)\n",
        "\n",
        "\n",
        "    teams = {}\n",
        "    for id in data.keys():\n",
        "      teams[id] = data[id]['title']\n",
        "      \n",
        "    # EDA to get a feeling of how the JSON is structured\n",
        "    # Column names are all the same, so we just use first element\n",
        "    columns = []\n",
        "    # Check the sample of values per each column\n",
        "    values = []\n",
        "    for id in data.keys():\n",
        "      columns = list(data[id]['history'][0].keys())\n",
        "      values = list(data[id]['history'][0].values())\n",
        "      break\n",
        "      \n",
        "    # Getting data for all teams\n",
        "    dataframes = {}\n",
        "    for id, team in teams.items():\n",
        "      teams_data = []\n",
        "      for row in data[id]['history']:\n",
        "        teams_data.append(list(row.values()))\n",
        "\n",
        "      df = pd.DataFrame(teams_data, columns=columns)\n",
        "      dataframes[team] = df\n",
        "      # print('Added data for {}.'.format(team))\n",
        "      \n",
        "    for team, df in dataframes.items():\n",
        "      dataframes[team]['ppda_coef'] = dataframes[team]['ppda'].apply(lambda x: x['att']/x['def'] if x['def'] != 0 else 0)\n",
        "      dataframes[team]['oppda_coef'] = dataframes[team]['ppda_allowed'].apply(lambda x: x['att']/x['def'] if x['def'] != 0 else 0)\n",
        "      \n",
        "    cols_to_sum = ['xG', 'xGA', 'npxG', 'npxGA', 'deep', 'deep_allowed', 'scored', 'missed', 'xpts', 'wins', 'draws', 'loses', 'pts', 'npxGD']\n",
        "    cols_to_mean = ['ppda_coef', 'oppda_coef']\n",
        "    \n",
        "    frames = []\n",
        "    for team, df in dataframes.items():\n",
        "      sum_data = pd.DataFrame(df[cols_to_sum].sum()).transpose()\n",
        "      mean_data = pd.DataFrame(df[cols_to_mean].mean()).transpose()\n",
        "      final_df = sum_data.join(mean_data)\n",
        "      final_df['team'] = team\n",
        "      final_df['matches'] = len(df)\n",
        "      frames.append(final_df)\n",
        "\n",
        "    full_stat = pd.concat(frames)\n",
        "    \n",
        "    full_stat = full_stat[['team', 'matches', 'wins', 'draws', 'loses', 'scored', 'missed', 'pts', 'xG', 'npxG', 'xGA', 'npxGA', 'npxGD', 'ppda_coef', 'oppda_coef', 'deep', 'deep_allowed', 'xpts']]\n",
        "    full_stat.sort_values('pts', ascending=False, inplace=True)\n",
        "    full_stat.reset_index(inplace=True, drop=True)\n",
        "    full_stat['position'] = range(1,len(full_stat)+1)  \n",
        "    \n",
        "    full_stat['xG_diff'] = full_stat['xG'] - full_stat['scored']\n",
        "    full_stat['xGA_diff'] = full_stat['xGA'] - full_stat['missed']\n",
        "    full_stat['xpts_diff'] = full_stat['xpts'] - full_stat['pts']\n",
        "    \n",
        "    cols_to_int = ['wins', 'draws', 'loses', 'scored', 'missed', 'pts', 'deep', 'deep_allowed']\n",
        "    full_stat[cols_to_int] = full_stat[cols_to_int].astype(int)\n",
        "    \n",
        "    col_order = ['position', 'team', 'matches', 'wins', 'draws', 'loses', 'scored', 'missed', 'pts', 'xG', 'xG_diff', 'npxG', 'xGA', 'xGA_diff', 'npxGA', 'npxGD', 'ppda_coef', 'oppda_coef', 'deep', 'deep_allowed', 'xpts', 'xpts_diff']\n",
        "    full_stat = full_stat[col_order]\n",
        "    full_stat = full_stat.set_index('position')\n",
        "    # print(full_stat.head(20))\n",
        "    \n",
        "    season_data[season] = full_stat\n",
        "  \n",
        "  df_season = pd.concat(season_data)\n",
        "  full_data[league] = df_season\n",
        "  \n",
        "data = pd.concat(full_data)\n",
        "data.head()\n"
      ],
      "metadata": {
        "colab": {
          "base_uri": "https://localhost:8080/",
          "height": 267
        },
        "id": "FnX1MzOUfLFb",
        "outputId": "cb5dfa08-a38a-493f-df04-b13eb2338529"
      },
      "execution_count": null,
      "outputs": [
        {
          "output_type": "execute_result",
          "data": {
            "text/plain": [
              "                                  team  matches  wins  draws  loses  scored  \\\n",
              "             position                                                         \n",
              "La_liga 2015 1               Barcelona       38    29      4      5     112   \n",
              "             2             Real Madrid       38    28      6      4     110   \n",
              "             3         Atletico Madrid       38    28      4      6      63   \n",
              "             4              Villarreal       38    18     10     10      44   \n",
              "             5           Athletic Club       38    18      8     12      58   \n",
              "\n",
              "                       missed  pts          xG    xG_diff  ...        xGA  \\\n",
              "             position                                      ...              \n",
              "La_liga 2015 1             29   91  113.598270   1.598270  ...  34.029090   \n",
              "             2             34   90   90.454148 -19.545852  ...  45.233782   \n",
              "             3             18   88   54.927365  -8.072635  ...  27.797052   \n",
              "             4             35   64   40.488814  -3.511186  ...  41.630788   \n",
              "             5             45   62   53.896614  -4.103386  ...  45.326224   \n",
              "\n",
              "                        xGA_diff      npxGA      npxGD  ppda_coef  oppda_coef  \\\n",
              "             position                                                           \n",
              "La_liga 2015 1          5.029090  33.285940  66.191080   6.012152   15.064390   \n",
              "             2         11.233782  42.260671  41.503967   9.251967   14.571881   \n",
              "             3          9.797052  27.053774  26.387161   8.834884    9.045124   \n",
              "             4          6.630788  39.400958  -1.141985   9.924386    9.034772   \n",
              "             5          0.326224  40.123397   9.916378   8.112320    9.674713   \n",
              "\n",
              "                       deep  deep_allowed     xpts  xpts_diff  \n",
              "             position                                          \n",
              "La_liga 2015 1          570           163  94.3800     3.3800  \n",
              "             2          404           211  79.0927   -10.9073  \n",
              "             3          261           170  72.2803   -15.7197  \n",
              "             4          188           215  52.1071   -11.8929  \n",
              "             5          221           174  58.2381    -3.7619  \n",
              "\n",
              "[5 rows x 21 columns]"
            ],
            "text/html": [
              "\n",
              "  <div id=\"df-a438835b-eae2-43a9-8049-826fd39f5221\">\n",
              "    <div class=\"colab-df-container\">\n",
              "      <div>\n",
              "<style scoped>\n",
              "    .dataframe tbody tr th:only-of-type {\n",
              "        vertical-align: middle;\n",
              "    }\n",
              "\n",
              "    .dataframe tbody tr th {\n",
              "        vertical-align: top;\n",
              "    }\n",
              "\n",
              "    .dataframe thead th {\n",
              "        text-align: right;\n",
              "    }\n",
              "</style>\n",
              "<table border=\"1\" class=\"dataframe\">\n",
              "  <thead>\n",
              "    <tr style=\"text-align: right;\">\n",
              "      <th></th>\n",
              "      <th></th>\n",
              "      <th></th>\n",
              "      <th>team</th>\n",
              "      <th>matches</th>\n",
              "      <th>wins</th>\n",
              "      <th>draws</th>\n",
              "      <th>loses</th>\n",
              "      <th>scored</th>\n",
              "      <th>missed</th>\n",
              "      <th>pts</th>\n",
              "      <th>xG</th>\n",
              "      <th>xG_diff</th>\n",
              "      <th>...</th>\n",
              "      <th>xGA</th>\n",
              "      <th>xGA_diff</th>\n",
              "      <th>npxGA</th>\n",
              "      <th>npxGD</th>\n",
              "      <th>ppda_coef</th>\n",
              "      <th>oppda_coef</th>\n",
              "      <th>deep</th>\n",
              "      <th>deep_allowed</th>\n",
              "      <th>xpts</th>\n",
              "      <th>xpts_diff</th>\n",
              "    </tr>\n",
              "    <tr>\n",
              "      <th></th>\n",
              "      <th></th>\n",
              "      <th>position</th>\n",
              "      <th></th>\n",
              "      <th></th>\n",
              "      <th></th>\n",
              "      <th></th>\n",
              "      <th></th>\n",
              "      <th></th>\n",
              "      <th></th>\n",
              "      <th></th>\n",
              "      <th></th>\n",
              "      <th></th>\n",
              "      <th></th>\n",
              "      <th></th>\n",
              "      <th></th>\n",
              "      <th></th>\n",
              "      <th></th>\n",
              "      <th></th>\n",
              "      <th></th>\n",
              "      <th></th>\n",
              "      <th></th>\n",
              "      <th></th>\n",
              "      <th></th>\n",
              "    </tr>\n",
              "  </thead>\n",
              "  <tbody>\n",
              "    <tr>\n",
              "      <th rowspan=\"5\" valign=\"top\">La_liga</th>\n",
              "      <th rowspan=\"5\" valign=\"top\">2015</th>\n",
              "      <th>1</th>\n",
              "      <td>Barcelona</td>\n",
              "      <td>38</td>\n",
              "      <td>29</td>\n",
              "      <td>4</td>\n",
              "      <td>5</td>\n",
              "      <td>112</td>\n",
              "      <td>29</td>\n",
              "      <td>91</td>\n",
              "      <td>113.598270</td>\n",
              "      <td>1.598270</td>\n",
              "      <td>...</td>\n",
              "      <td>34.029090</td>\n",
              "      <td>5.029090</td>\n",
              "      <td>33.285940</td>\n",
              "      <td>66.191080</td>\n",
              "      <td>6.012152</td>\n",
              "      <td>15.064390</td>\n",
              "      <td>570</td>\n",
              "      <td>163</td>\n",
              "      <td>94.3800</td>\n",
              "      <td>3.3800</td>\n",
              "    </tr>\n",
              "    <tr>\n",
              "      <th>2</th>\n",
              "      <td>Real Madrid</td>\n",
              "      <td>38</td>\n",
              "      <td>28</td>\n",
              "      <td>6</td>\n",
              "      <td>4</td>\n",
              "      <td>110</td>\n",
              "      <td>34</td>\n",
              "      <td>90</td>\n",
              "      <td>90.454148</td>\n",
              "      <td>-19.545852</td>\n",
              "      <td>...</td>\n",
              "      <td>45.233782</td>\n",
              "      <td>11.233782</td>\n",
              "      <td>42.260671</td>\n",
              "      <td>41.503967</td>\n",
              "      <td>9.251967</td>\n",
              "      <td>14.571881</td>\n",
              "      <td>404</td>\n",
              "      <td>211</td>\n",
              "      <td>79.0927</td>\n",
              "      <td>-10.9073</td>\n",
              "    </tr>\n",
              "    <tr>\n",
              "      <th>3</th>\n",
              "      <td>Atletico Madrid</td>\n",
              "      <td>38</td>\n",
              "      <td>28</td>\n",
              "      <td>4</td>\n",
              "      <td>6</td>\n",
              "      <td>63</td>\n",
              "      <td>18</td>\n",
              "      <td>88</td>\n",
              "      <td>54.927365</td>\n",
              "      <td>-8.072635</td>\n",
              "      <td>...</td>\n",
              "      <td>27.797052</td>\n",
              "      <td>9.797052</td>\n",
              "      <td>27.053774</td>\n",
              "      <td>26.387161</td>\n",
              "      <td>8.834884</td>\n",
              "      <td>9.045124</td>\n",
              "      <td>261</td>\n",
              "      <td>170</td>\n",
              "      <td>72.2803</td>\n",
              "      <td>-15.7197</td>\n",
              "    </tr>\n",
              "    <tr>\n",
              "      <th>4</th>\n",
              "      <td>Villarreal</td>\n",
              "      <td>38</td>\n",
              "      <td>18</td>\n",
              "      <td>10</td>\n",
              "      <td>10</td>\n",
              "      <td>44</td>\n",
              "      <td>35</td>\n",
              "      <td>64</td>\n",
              "      <td>40.488814</td>\n",
              "      <td>-3.511186</td>\n",
              "      <td>...</td>\n",
              "      <td>41.630788</td>\n",
              "      <td>6.630788</td>\n",
              "      <td>39.400958</td>\n",
              "      <td>-1.141985</td>\n",
              "      <td>9.924386</td>\n",
              "      <td>9.034772</td>\n",
              "      <td>188</td>\n",
              "      <td>215</td>\n",
              "      <td>52.1071</td>\n",
              "      <td>-11.8929</td>\n",
              "    </tr>\n",
              "    <tr>\n",
              "      <th>5</th>\n",
              "      <td>Athletic Club</td>\n",
              "      <td>38</td>\n",
              "      <td>18</td>\n",
              "      <td>8</td>\n",
              "      <td>12</td>\n",
              "      <td>58</td>\n",
              "      <td>45</td>\n",
              "      <td>62</td>\n",
              "      <td>53.896614</td>\n",
              "      <td>-4.103386</td>\n",
              "      <td>...</td>\n",
              "      <td>45.326224</td>\n",
              "      <td>0.326224</td>\n",
              "      <td>40.123397</td>\n",
              "      <td>9.916378</td>\n",
              "      <td>8.112320</td>\n",
              "      <td>9.674713</td>\n",
              "      <td>221</td>\n",
              "      <td>174</td>\n",
              "      <td>58.2381</td>\n",
              "      <td>-3.7619</td>\n",
              "    </tr>\n",
              "  </tbody>\n",
              "</table>\n",
              "<p>5 rows × 21 columns</p>\n",
              "</div>\n",
              "      <button class=\"colab-df-convert\" onclick=\"convertToInteractive('df-a438835b-eae2-43a9-8049-826fd39f5221')\"\n",
              "              title=\"Convert this dataframe to an interactive table.\"\n",
              "              style=\"display:none;\">\n",
              "        \n",
              "  <svg xmlns=\"http://www.w3.org/2000/svg\" height=\"24px\"viewBox=\"0 0 24 24\"\n",
              "       width=\"24px\">\n",
              "    <path d=\"M0 0h24v24H0V0z\" fill=\"none\"/>\n",
              "    <path d=\"M18.56 5.44l.94 2.06.94-2.06 2.06-.94-2.06-.94-.94-2.06-.94 2.06-2.06.94zm-11 1L8.5 8.5l.94-2.06 2.06-.94-2.06-.94L8.5 2.5l-.94 2.06-2.06.94zm10 10l.94 2.06.94-2.06 2.06-.94-2.06-.94-.94-2.06-.94 2.06-2.06.94z\"/><path d=\"M17.41 7.96l-1.37-1.37c-.4-.4-.92-.59-1.43-.59-.52 0-1.04.2-1.43.59L10.3 9.45l-7.72 7.72c-.78.78-.78 2.05 0 2.83L4 21.41c.39.39.9.59 1.41.59.51 0 1.02-.2 1.41-.59l7.78-7.78 2.81-2.81c.8-.78.8-2.07 0-2.86zM5.41 20L4 18.59l7.72-7.72 1.47 1.35L5.41 20z\"/>\n",
              "  </svg>\n",
              "      </button>\n",
              "      \n",
              "  <style>\n",
              "    .colab-df-container {\n",
              "      display:flex;\n",
              "      flex-wrap:wrap;\n",
              "      gap: 12px;\n",
              "    }\n",
              "\n",
              "    .colab-df-convert {\n",
              "      background-color: #E8F0FE;\n",
              "      border: none;\n",
              "      border-radius: 50%;\n",
              "      cursor: pointer;\n",
              "      display: none;\n",
              "      fill: #1967D2;\n",
              "      height: 32px;\n",
              "      padding: 0 0 0 0;\n",
              "      width: 32px;\n",
              "    }\n",
              "\n",
              "    .colab-df-convert:hover {\n",
              "      background-color: #E2EBFA;\n",
              "      box-shadow: 0px 1px 2px rgba(60, 64, 67, 0.3), 0px 1px 3px 1px rgba(60, 64, 67, 0.15);\n",
              "      fill: #174EA6;\n",
              "    }\n",
              "\n",
              "    [theme=dark] .colab-df-convert {\n",
              "      background-color: #3B4455;\n",
              "      fill: #D2E3FC;\n",
              "    }\n",
              "\n",
              "    [theme=dark] .colab-df-convert:hover {\n",
              "      background-color: #434B5C;\n",
              "      box-shadow: 0px 1px 3px 1px rgba(0, 0, 0, 0.15);\n",
              "      filter: drop-shadow(0px 1px 2px rgba(0, 0, 0, 0.3));\n",
              "      fill: #FFFFFF;\n",
              "    }\n",
              "  </style>\n",
              "\n",
              "      <script>\n",
              "        const buttonEl =\n",
              "          document.querySelector('#df-a438835b-eae2-43a9-8049-826fd39f5221 button.colab-df-convert');\n",
              "        buttonEl.style.display =\n",
              "          google.colab.kernel.accessAllowed ? 'block' : 'none';\n",
              "\n",
              "        async function convertToInteractive(key) {\n",
              "          const element = document.querySelector('#df-a438835b-eae2-43a9-8049-826fd39f5221');\n",
              "          const dataTable =\n",
              "            await google.colab.kernel.invokeFunction('convertToInteractive',\n",
              "                                                     [key], {});\n",
              "          if (!dataTable) return;\n",
              "\n",
              "          const docLinkHtml = 'Like what you see? Visit the ' +\n",
              "            '<a target=\"_blank\" href=https://colab.research.google.com/notebooks/data_table.ipynb>data table notebook</a>'\n",
              "            + ' to learn more about interactive tables.';\n",
              "          element.innerHTML = '';\n",
              "          dataTable['output_type'] = 'display_data';\n",
              "          await google.colab.output.renderOutput(dataTable, element);\n",
              "          const docLink = document.createElement('div');\n",
              "          docLink.innerHTML = docLinkHtml;\n",
              "          element.appendChild(docLink);\n",
              "        }\n",
              "      </script>\n",
              "    </div>\n",
              "  </div>\n",
              "  "
            ]
          },
          "metadata": {},
          "execution_count": 153
        }
      ]
    },
    {
      "cell_type": "code",
      "source": [
        "data.to_csv('understat.com.csv')"
      ],
      "metadata": {
        "id": "ictHK6dAfLCr"
      },
      "execution_count": null,
      "outputs": []
    },
    {
      "cell_type": "code",
      "source": [],
      "metadata": {
        "id": "zU9wNBMFfLAN"
      },
      "execution_count": null,
      "outputs": []
    },
    {
      "cell_type": "code",
      "source": [],
      "metadata": {
        "id": "BHggYNRXfK9T"
      },
      "execution_count": null,
      "outputs": []
    },
    {
      "cell_type": "code",
      "source": [],
      "metadata": {
        "id": "RDg-I9x2eLSs"
      },
      "execution_count": null,
      "outputs": []
    }
  ]
}